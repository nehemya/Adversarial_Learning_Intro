{
  "nbformat": 4,
  "nbformat_minor": 0,
  "metadata": {
    "kernelspec": {
      "display_name": "Python 3",
      "language": "python",
      "name": "python3"
    },
    "language_info": {
      "codemirror_mode": {
        "name": "ipython",
        "version": 3
      },
      "file_extension": ".py",
      "mimetype": "text/x-python",
      "name": "python",
      "nbconvert_exporter": "python",
      "pygments_lexer": "ipython3",
      "version": "3.6.9"
    },
    "colab": {
      "name": "defensive_distillation.ipynb",
      "provenance": [],
      "collapsed_sections": []
    }
  },
  "cells": [
    {
      "cell_type": "markdown",
      "metadata": {
        "id": "Ma3wp9-peHNF",
        "colab_type": "text"
      },
      "source": [
        "#Exploring Defensive Distillation "
      ]
    },
    {
      "cell_type": "markdown",
      "metadata": {
        "id": "7COwodpce3O8",
        "colab_type": "text"
      },
      "source": [
        "Imports"
      ]
    },
    {
      "cell_type": "code",
      "metadata": {
        "id": "yQEZETPDG0rq",
        "colab_type": "code",
        "outputId": "abe2aa20-bd1e-420a-e196-cbb652891a6a",
        "colab": {
          "base_uri": "https://localhost:8080/",
          "height": 34
        }
      },
      "source": [
        "import os\n",
        "os.environ[\"CUDA_DEVICE_ORDER\"] = \"PCI_BUS_ID\" \n",
        "os.environ[\"CUDA_VISIBLE_DEVICES\"] = \"-1\"\n",
        "\n",
        "import numpy as np\n",
        "import matplotlib.pyplot as plt\n",
        "%tensorflow_version 1.x\n",
        "import tensorflow as tf\n",
        "from tensorflow import keras\n",
        "from tensorflow.keras import layers\n",
        "import math\n",
        "from sklearn.utils import shuffle\n",
        "\n",
        "# Enable inline plotting\n",
        "%matplotlib inline\n",
        "\n",
        "import warnings\n",
        "warnings.filterwarnings(\"ignore\", category=DeprecationWarning)\n",
        "warnings.filterwarnings(\"ignore\", category=FutureWarning)"
      ],
      "execution_count": 1,
      "outputs": [
        {
          "output_type": "stream",
          "text": [
            "TensorFlow 1.x selected.\n"
          ],
          "name": "stdout"
        }
      ]
    },
    {
      "cell_type": "markdown",
      "metadata": {
        "id": "BLV2hF4sfBpQ",
        "colab_type": "text"
      },
      "source": [
        "#Implementing Defensive Distillation "
      ]
    },
    {
      "cell_type": "markdown",
      "metadata": {
        "id": "n4lh_nkafMYa",
        "colab_type": "text"
      },
      "source": [
        "The implementation divide to two components:\n",
        "\n",
        "\n",
        "*   First we build an activation layer with Temperature component.\n",
        "*   Second we train teacher and a student networks with the spacial training setups.\n",
        "\n",
        "\n",
        "  "
      ]
    },
    {
      "cell_type": "code",
      "metadata": {
        "id": "bsTX9Cy7eH8N",
        "colab_type": "code",
        "colab": {}
      },
      "source": [
        "def temperature_softmax(x):\n",
        "  return tf.nn.softmax(tf.math.divide(x, Temperature))\n",
        "\n",
        "def build_mnist_distilled_models(num_classes):\n",
        "    # build two identical architectures with spacial temperature softmax\n",
        "    activation = 'relu'\n",
        "    # input image dimensions\n",
        "    img_rows, img_cols, img_colors = 28, 28, 1\n",
        "    # teacher\n",
        "    teacher = keras.Sequential()\n",
        "    teacher.add(layers.Conv2D(8, kernel_size=(3, 3), input_shape=(img_rows, img_cols, img_colors), activation=activation))\n",
        "    teacher.add(layers.Conv2D(8, (3, 3), activation=activation))\n",
        "    teacher.add(layers.MaxPooling2D(pool_size=(2, 2)))\n",
        "    teacher.add(layers.Dropout(0.25))\n",
        "    teacher.add(layers.Flatten())\n",
        "    teacher.add(layers.Dense(128, activation=activation))\n",
        "    teacher.add(layers.Dropout(0.5))\n",
        "    teacher.add(layers.Dense(num_classes))\n",
        "    teacher.add(layers.Activation('softmax', name='y_pred'))\n",
        "    # student\n",
        "    student = keras.Sequential()\n",
        "    student.add(layers.Conv2D(8, kernel_size=(3, 3), input_shape=(img_rows, img_cols, img_colors), activation=activation))\n",
        "    student.add(layers.Conv2D(8, (3, 3), activation=activation))\n",
        "    student.add(layers.MaxPooling2D(pool_size=(2, 2)))\n",
        "    student.add(layers.Dropout(0.25))\n",
        "    student.add(layers.Flatten())\n",
        "    student.add(layers.Dense(128, activation=activation))\n",
        "    student.add(layers.Dropout(0.5))\n",
        "    student.add(layers.Dense(num_classes))\n",
        "    student.add(layers.Activation('softmax', name='y_pred'))\n",
        "\n",
        "\n",
        "              \n",
        "    return teacher, student"
      ],
      "execution_count": 0,
      "outputs": []
    },
    {
      "cell_type": "code",
      "metadata": {
        "id": "9dAle3cBgIe-",
        "colab_type": "code",
        "colab": {}
      },
      "source": [
        "def trainAndTransferKnowladge(train_images,train_labels,test_images,test_labels, Temperature, num_classes):\n",
        "  \n",
        "  batch_size = 128\n",
        "  maxepoches = 12\n",
        "\n",
        "\n",
        "  sess = tf.Session()\n",
        "  keras.backend.set_session(sess)\n",
        "  \n",
        "  \n",
        "  teacher = build_mnist_model(num_classes)\n",
        "  temp_soft_teacher = layers.Activation(temperature_softmax, name='temperature_softmax')(teacher.layers[-2].output)\n",
        "  trainTeacher = keras.Model(teacher.input, temp_soft_teacher)\n",
        "\n",
        "  # phase 1 : train the teacher with one hot labels\n",
        "  trainTeacher.compile(loss='categorical_crossentropy',\n",
        "              optimizer=keras.optimizers.Adam(),\n",
        "              metrics=[keras.metrics.CategoricalAccuracy()])\n",
        "  print('train teacher:')\n",
        "  teacherHist = trainTeacher.fit(train_images, train_labels,\n",
        "                    batch_size=batch_size,\n",
        "                    epochs=maxepoches,\n",
        "                    verbose=1,\n",
        "                    validation_data=(test_images, test_labels))\n",
        "\n",
        "  # phase 2 : train the student with the soft labels\n",
        "  student = build_mnist_model(num_classes)\n",
        "  temp_soft_student = layers.Activation(temperature_softmax, name='temperature_softmax')(student.layers[-2].output)\n",
        "  trainStudent = keras.Model(student.input, temp_soft_student)\n",
        "  \n",
        "  train_soft_labels = trainTeacher.predict(train_images)\n",
        "  \n",
        "  student.compile(loss='categorical_crossentropy',\n",
        "              optimizer=keras.optimizers.Adam(),\n",
        "              metrics=[keras.metrics.CategoricalAccuracy()])\n",
        "  trainStudent.compile(loss='categorical_crossentropy',\n",
        "              optimizer=keras.optimizers.Adam(),\n",
        "              metrics=[keras.metrics.CategoricalAccuracy()])\n",
        "  print('train student:')\n",
        "  studentHist = trainStudent.fit(train_images, train_soft_labels,\n",
        "                    batch_size=batch_size,\n",
        "                    epochs=maxepoches,\n",
        "                    verbose=1,\n",
        "                    validation_data=(test_images, test_labels))\n",
        "  return teacher, student\n",
        "  "
      ],
      "execution_count": 0,
      "outputs": []
    },
    {
      "cell_type": "code",
      "metadata": {
        "id": "XlLfE-tdX-8K",
        "colab_type": "code",
        "colab": {}
      },
      "source": [
        ""
      ],
      "execution_count": 0,
      "outputs": []
    },
    {
      "cell_type": "markdown",
      "metadata": {
        "id": "S6BFEIfPixfP",
        "colab_type": "text"
      },
      "source": [
        "#Attacks:\n",
        "\n",
        "\n",
        "*   FGSM\n",
        "*   TGSM\n",
        "*PGD (targeted & non-targeted)\n",
        "\n"
      ]
    },
    {
      "cell_type": "markdown",
      "metadata": {
        "id": "u71zcvGqG0sC",
        "colab_type": "text"
      },
      "source": [
        "--- Fast Gradient Sign Method (FGSM) ---"
      ]
    },
    {
      "cell_type": "code",
      "metadata": {
        "id": "DJhAkLskG0sE",
        "colab_type": "code",
        "colab": {}
      },
      "source": [
        "''' A simple utility funcion for evaluating the success of an attack\n",
        "'''\n",
        "def TestAttack(model, adv_images, orig_images, true_labels, target_labels=None, targeted=False):\n",
        "    score = model.evaluate(adv_images, true_labels, verbose=0)\n",
        "    print('Test loss: {:.2f}'.format(score[0]))\n",
        "    print('Successfully moved out of source class: {:.2f}'.format( 1 - score[1]))\n",
        "    \n",
        "    if targeted:\n",
        "        score = model.evaluate(adv_images, target, verbose=0)\n",
        "        print('Test loss: {:.2f}'.format(score[0]))\n",
        "        print('Successfully perturbed to target class: {:.2f}'.format(score[1]))\n",
        "    \n",
        "    dist = np.mean(np.sqrt(np.mean(np.square(adv_images - orig_images), axis=(1,2,3))))\n",
        "    print('Mean perturbation distance: {:.2f}'.format(dist))\n",
        "    \n",
        "    index = 10\n",
        "    img = adv_images[index].reshape(28, 28)\n",
        "    plt.imshow(img, cmap='gray')\n",
        "    plt.show()"
      ],
      "execution_count": 0,
      "outputs": []
    },
    {
      "cell_type": "code",
      "metadata": {
        "id": "UY-DDb8EG0sI",
        "colab_type": "code",
        "colab": {}
      },
      "source": [
        "''' Fast Gradient Sign Method implementation - perturb all input features by an epsilon sized step in \n",
        "    the direction of loss gradient\n",
        "'''\n",
        "def FastGradientSignMethod(model, images, labels, epsilon=0.3):\n",
        "    true_label_tensor = keras.backend.placeholder(shape=(None, num_classes))\n",
        "    adv_loss = keras.losses.categorical_crossentropy(true_label_tensor, model.output)\n",
        "    get_grads = keras.backend.function([model.input, true_label_tensor], keras.backend.gradients(adv_loss, model.input))\n",
        "    \n",
        "    adv_grads = get_grads([images, labels])[0]\n",
        "    \n",
        "    adv_out = images + epsilon * np.sign(adv_grads)\n",
        "    return adv_out"
      ],
      "execution_count": 0,
      "outputs": []
    },
    {
      "cell_type": "markdown",
      "metadata": {
        "id": "Jkg_fY7CG0sO",
        "colab_type": "text"
      },
      "source": [
        "--- Targeted Gradient Sign Method (TGSM) ---"
      ]
    },
    {
      "cell_type": "code",
      "metadata": {
        "id": "6YNckVZKG0sR",
        "colab_type": "code",
        "colab": {}
      },
      "source": [
        "''' Targeted Gradient Sign Method implementation - A targeted variant of the FGSM attack\n",
        "    here we minimize the loss with respect to the target class, as opposed to maximizing the loss with respect\n",
        "    to the source class\n",
        "'''\n",
        "def TargetedGradientSignMethod(model, images, target, epsilon=0.3):\n",
        "    true_label_tensor = keras.backend.placeholder(shape=(None, num_classes))\n",
        "    adv_loss = keras.losses.categorical_crossentropy(true_label_tensor, model.output)\n",
        "    get_grads = keras.backend.function([model.input, true_label_tensor], keras.backend.gradients(adv_loss, model.input))\n",
        "    \n",
        "    adv_grads = get_grads([images, target])[0]\n",
        "    \n",
        "    adv_out = images - epsilon * np.sign(adv_grads)\n",
        "    return adv_out"
      ],
      "execution_count": 0,
      "outputs": []
    },
    {
      "cell_type": "markdown",
      "metadata": {
        "id": "awH61CD3G0sY",
        "colab_type": "text"
      },
      "source": [
        "--- Basic Iterative Method (BIM) ---"
      ]
    },
    {
      "cell_type": "code",
      "metadata": {
        "id": "abLag2V2G0sZ",
        "colab_type": "code",
        "colab": {}
      },
      "source": [
        "def BasicIterativeMethod(model, images, labels, epsilon=0.1, iter_eps = 0.05, iterations=10, min_x=0.0, max_x=1.0, targeted=False):\n",
        "    \n",
        "    adv_out = images\n",
        "    \n",
        "    for iteration in range(iterations):\n",
        "        print('Iteration:', iteration)\n",
        "        # Perturb the input\n",
        "        if targeted:\n",
        "            adv_out = TargetedGradientSignMethod(model, adv_out, labels, epsilon=iter_eps)\n",
        "        else:\n",
        "            adv_out = FastGradientSignMethod(model, adv_out, labels, epsilon=iter_eps)\n",
        "            \n",
        "        # Project the perturbation to the epsilon ball\n",
        "        perturbation = adv_out - images\n",
        "        norm = np.sum(np.square(perturbation), axis=(1,2,3), keepdims=True)\n",
        "        norm = np.sqrt(np.maximum(10e-12, norm))\n",
        "        factor = np.minimum(1, np.divide(epsilon, norm))\n",
        "        adv_out = np.clip(images + perturbation * factor, 0.0, 1.0)\n",
        "    \n",
        "    return adv_out"
      ],
      "execution_count": 0,
      "outputs": []
    },
    {
      "cell_type": "markdown",
      "metadata": {
        "id": "Um6IBWnxkMEu",
        "colab_type": "text"
      },
      "source": [
        "#Create and Train a Simple MNIST CNN Classifier then attack it "
      ]
    },
    {
      "cell_type": "code",
      "metadata": {
        "id": "UwU6OYREG0rz",
        "colab_type": "code",
        "colab": {}
      },
      "source": [
        "''' Build a simple MNIST classification CNN\n",
        "    The network takes ~3 minutes to train on a normal laptop and reaches roughly 97% of accuracy\n",
        "    Model structure: Conv, Conv, Max pooling, Dropout, Dense, Dense\n",
        "'''\n",
        "def build_mnist_model(num_classes):\n",
        "    \n",
        "    activation = 'relu'\n",
        "    # input image dimensions\n",
        "    img_rows, img_cols, img_colors = 28, 28, 1\n",
        "    \n",
        "    model = keras.Sequential()\n",
        "    model.add(layers.Conv2D(8, kernel_size=(3, 3), input_shape=(img_rows, img_cols, img_colors), activation=activation))\n",
        "    model.add(layers.Conv2D(8, (3, 3), activation=activation))\n",
        "    model.add(layers.MaxPooling2D(pool_size=(2, 2)))\n",
        "    model.add(layers.Dropout(0.25))\n",
        "    model.add(layers.Flatten())\n",
        "    model.add(layers.Dense(128, activation=activation))\n",
        "    model.add(layers.Dropout(0.5))\n",
        "    model.add(layers.Dense(num_classes))\n",
        "    model.add(layers.Activation('softmax', name='y_pred'))\n",
        "              \n",
        "    return model"
      ],
      "execution_count": 0,
      "outputs": []
    },
    {
      "cell_type": "code",
      "metadata": {
        "id": "jzdMl1BRG0r3",
        "colab_type": "code",
        "colab": {}
      },
      "source": [
        "''' Normalize input to the range of [0..1]\n",
        "    Apart from assisting in the convergance of the training process, this \n",
        "    will also make our lives easier during the adversarial attack process\n",
        "'''\n",
        "def normalize(x_train,x_test):\n",
        "    x_train -= x_train.min()\n",
        "    x_train /= x_train.max()\n",
        "    x_test -= x_test.min()\n",
        "    x_test /= x_test.max()\n",
        "    \n",
        "    return x_train, x_test"
      ],
      "execution_count": 0,
      "outputs": []
    },
    {
      "cell_type": "code",
      "metadata": {
        "id": "c4HrIXRyG0r7",
        "colab_type": "code",
        "outputId": "cbd970a9-5af4-49c6-bde0-581f76022adb",
        "colab": {
          "base_uri": "https://localhost:8080/",
          "height": 50
        }
      },
      "source": [
        "# Load and prepare the datasets for training\n",
        "num_classes = 10\n",
        "\n",
        "img_rows, img_cols, img_colors = 28, 28, 1\n",
        "(train_images, train_labels), (test_images, test_labels) = keras.datasets.mnist.load_data()\n",
        "train_images = train_images.astype('float32')\n",
        "test_images = test_images.astype('float32')\n",
        "train_images = train_images.reshape(train_images.shape[0], img_rows, img_cols, 1)\n",
        "test_images = test_images.reshape(test_images.shape[0], img_rows, img_cols, 1)\n",
        "train_images, test_images = normalize(train_images, test_images)\n",
        "    \n",
        "train_labels = keras.utils.to_categorical(train_labels, num_classes)\n",
        "test_labels = keras.utils.to_categorical(test_labels, num_classes)"
      ],
      "execution_count": 10,
      "outputs": [
        {
          "output_type": "stream",
          "text": [
            "Downloading data from https://storage.googleapis.com/tensorflow/tf-keras-datasets/mnist.npz\n",
            "11493376/11490434 [==============================] - 0s 0us/step\n"
          ],
          "name": "stdout"
        }
      ]
    },
    {
      "cell_type": "code",
      "metadata": {
        "id": "mdGg0FJsG0r_",
        "colab_type": "code",
        "outputId": "6dbf6dab-d224-4e10-ff61-933ee0083b8c",
        "colab": {
          "base_uri": "https://localhost:8080/",
          "height": 507
        }
      },
      "source": [
        "# Train the model\n",
        "batch_size = 128\n",
        "maxepoches = 12\n",
        "\n",
        "model = build_mnist_model(num_classes)\n",
        "\n",
        "model.compile(loss='categorical_crossentropy',\n",
        "              optimizer=keras.optimizers.Adam(),\n",
        "              metrics=[keras.metrics.CategoricalAccuracy()])\n",
        "\n",
        "history = model.fit(train_images, train_labels,\n",
        "                    batch_size=batch_size,\n",
        "                    epochs=maxepoches,\n",
        "                    verbose=1,\n",
        "                    validation_data=(test_images, test_labels))\n"
      ],
      "execution_count": 11,
      "outputs": [
        {
          "output_type": "stream",
          "text": [
            "WARNING:tensorflow:From /tensorflow-1.15.2/python3.6/tensorflow_core/python/ops/resource_variable_ops.py:1630: calling BaseResourceVariable.__init__ (from tensorflow.python.ops.resource_variable_ops) with constraint is deprecated and will be removed in a future version.\n",
            "Instructions for updating:\n",
            "If using Keras pass *_constraint arguments to layers.\n",
            "Train on 60000 samples, validate on 10000 samples\n",
            "Epoch 1/12\n",
            "60000/60000 [==============================] - 34s 566us/sample - loss: 0.4248 - categorical_accuracy: 0.8720 - val_loss: 0.0971 - val_categorical_accuracy: 0.9704\n",
            "Epoch 2/12\n",
            "60000/60000 [==============================] - 34s 559us/sample - loss: 0.1461 - categorical_accuracy: 0.9566 - val_loss: 0.0630 - val_categorical_accuracy: 0.9805\n",
            "Epoch 3/12\n",
            "60000/60000 [==============================] - 33s 558us/sample - loss: 0.1101 - categorical_accuracy: 0.9667 - val_loss: 0.0472 - val_categorical_accuracy: 0.9843\n",
            "Epoch 4/12\n",
            "60000/60000 [==============================] - 34s 562us/sample - loss: 0.0932 - categorical_accuracy: 0.9718 - val_loss: 0.0454 - val_categorical_accuracy: 0.9848\n",
            "Epoch 5/12\n",
            "60000/60000 [==============================] - 33s 553us/sample - loss: 0.0815 - categorical_accuracy: 0.9755 - val_loss: 0.0407 - val_categorical_accuracy: 0.9869\n",
            "Epoch 6/12\n",
            "60000/60000 [==============================] - 33s 557us/sample - loss: 0.0740 - categorical_accuracy: 0.9770 - val_loss: 0.0364 - val_categorical_accuracy: 0.9876\n",
            "Epoch 7/12\n",
            "60000/60000 [==============================] - 33s 556us/sample - loss: 0.0673 - categorical_accuracy: 0.9786 - val_loss: 0.0361 - val_categorical_accuracy: 0.9885\n",
            "Epoch 8/12\n",
            "60000/60000 [==============================] - 34s 558us/sample - loss: 0.0642 - categorical_accuracy: 0.9801 - val_loss: 0.0368 - val_categorical_accuracy: 0.9875\n",
            "Epoch 9/12\n",
            "60000/60000 [==============================] - 33s 556us/sample - loss: 0.0593 - categorical_accuracy: 0.9816 - val_loss: 0.0321 - val_categorical_accuracy: 0.9891\n",
            "Epoch 10/12\n",
            "60000/60000 [==============================] - 33s 554us/sample - loss: 0.0559 - categorical_accuracy: 0.9819 - val_loss: 0.0323 - val_categorical_accuracy: 0.9890\n",
            "Epoch 11/12\n",
            "60000/60000 [==============================] - 33s 555us/sample - loss: 0.0552 - categorical_accuracy: 0.9826 - val_loss: 0.0315 - val_categorical_accuracy: 0.9888\n",
            "Epoch 12/12\n",
            "60000/60000 [==============================] - 33s 553us/sample - loss: 0.0513 - categorical_accuracy: 0.9839 - val_loss: 0.0296 - val_categorical_accuracy: 0.9894\n"
          ],
          "name": "stdout"
        }
      ]
    },
    {
      "cell_type": "code",
      "metadata": {
        "id": "rHfFFdSqG0sL",
        "colab_type": "code",
        "outputId": "91595b2a-409a-481f-da9e-f2f9a5924591",
        "colab": {
          "base_uri": "https://localhost:8080/",
          "height": 315
        }
      },
      "source": [
        "adv_images = FastGradientSignMethod(model, test_images, test_labels, epsilon=0.3)\n",
        "TestAttack(model, adv_images, test_images, test_labels, targeted=False)"
      ],
      "execution_count": 12,
      "outputs": [
        {
          "output_type": "stream",
          "text": [
            "Test loss: 3.95\n",
            "Successfully moved out of source class: 0.77\n",
            "Mean perturbation distance: 0.23\n"
          ],
          "name": "stdout"
        },
        {
          "output_type": "display_data",
          "data": {
            "image/png": "[encoded data removed]",
            "text/plain": [
              "<Figure size 432x288 with 1 Axes>"
            ]
          },
          "metadata": {
            "tags": [],
            "needs_background": "light"
          }
        }
      ]
    },
    {
      "cell_type": "code",
      "metadata": {
        "id": "yZLThCUWG0sU",
        "colab_type": "code",
        "outputId": "4e40bdbb-3b00-4cd6-c35d-e0c095cff6c1",
        "colab": {
          "base_uri": "https://localhost:8080/",
          "height": 349
        }
      },
      "source": [
        "target = (np.argmax(test_labels, axis=1) + np.random.randint(1, num_classes, size=(test_labels.shape[0]))) % num_classes\n",
        "target = keras.utils.to_categorical(target, num_classes)\n",
        "adv_images = TargetedGradientSignMethod(model, test_images, target, epsilon=0.3)\n",
        "TestAttack(model, adv_images, test_images, test_labels, target, targeted=True)"
      ],
      "execution_count": 13,
      "outputs": [
        {
          "output_type": "stream",
          "text": [
            "Test loss: 3.33\n",
            "Successfully moved out of source class: 0.77\n",
            "Test loss: 2.49\n",
            "Successfully perturbed to target class: 0.34\n",
            "Mean perturbation distance: 0.23\n"
          ],
          "name": "stdout"
        },
        {
          "output_type": "display_data",
          "data": {
            "image/png": "[encoded data removed]",
            "text/plain": [
              "<Figure size 432x288 with 1 Axes>"
            ]
          },
          "metadata": {
            "tags": [],
            "needs_background": "light"
          }
        }
      ]
    },
    {
      "cell_type": "code",
      "metadata": {
        "id": "MvgeHAtU7MAn",
        "colab_type": "code",
        "outputId": "2450da07-17e0-42b6-c3b1-7e9e63aa40b5",
        "colab": {
          "base_uri": "https://localhost:8080/",
          "height": 819
        }
      },
      "source": [
        "adv_images = BasicIterativeMethod(model, test_images, test_labels, iterations = 30, epsilon=4.0, iter_eps=0.05, targeted=False)\n",
        "TestAttack(model, adv_images, test_images, test_labels, target, targeted=False)"
      ],
      "execution_count": 14,
      "outputs": [
        {
          "output_type": "stream",
          "text": [
            "Iteration: 0\n",
            "Iteration: 1\n",
            "Iteration: 2\n",
            "Iteration: 3\n",
            "Iteration: 4\n",
            "Iteration: 5\n",
            "Iteration: 6\n",
            "Iteration: 7\n",
            "Iteration: 8\n",
            "Iteration: 9\n",
            "Iteration: 10\n",
            "Iteration: 11\n",
            "Iteration: 12\n",
            "Iteration: 13\n",
            "Iteration: 14\n",
            "Iteration: 15\n",
            "Iteration: 16\n",
            "Iteration: 17\n",
            "Iteration: 18\n",
            "Iteration: 19\n",
            "Iteration: 20\n",
            "Iteration: 21\n",
            "Iteration: 22\n",
            "Iteration: 23\n",
            "Iteration: 24\n",
            "Iteration: 25\n",
            "Iteration: 26\n",
            "Iteration: 27\n",
            "Iteration: 28\n",
            "Iteration: 29\n",
            "Test loss: 17.19\n",
            "Successfully moved out of source class: 1.00\n",
            "Mean perturbation distance: 0.14\n"
          ],
          "name": "stdout"
        },
        {
          "output_type": "display_data",
          "data": {
            "image/png": "[encoded data removed]",
            "text/plain": [
              "<Figure size 432x288 with 1 Axes>"
            ]
          },
          "metadata": {
            "tags": [],
            "needs_background": "light"
          }
        }
      ]
    },
    {
      "cell_type": "code",
      "metadata": {
        "id": "g02Rq0o3G0sc",
        "colab_type": "code",
        "outputId": "db6738a9-285a-4442-be74-04261d451986",
        "colab": {
          "base_uri": "https://localhost:8080/",
          "height": 853
        }
      },
      "source": [
        "adv_images = BasicIterativeMethod(model, test_images, target, iterations = 30, epsilon=4.0, iter_eps=0.05, targeted=True)\n",
        "TestAttack(model, adv_images, test_images, test_labels, target, targeted=True)"
      ],
      "execution_count": 15,
      "outputs": [
        {
          "output_type": "stream",
          "text": [
            "Iteration: 0\n",
            "Iteration: 1\n",
            "Iteration: 2\n",
            "Iteration: 3\n",
            "Iteration: 4\n",
            "Iteration: 5\n",
            "Iteration: 6\n",
            "Iteration: 7\n",
            "Iteration: 8\n",
            "Iteration: 9\n",
            "Iteration: 10\n",
            "Iteration: 11\n",
            "Iteration: 12\n",
            "Iteration: 13\n",
            "Iteration: 14\n",
            "Iteration: 15\n",
            "Iteration: 16\n",
            "Iteration: 17\n",
            "Iteration: 18\n",
            "Iteration: 19\n",
            "Iteration: 20\n",
            "Iteration: 21\n",
            "Iteration: 22\n",
            "Iteration: 23\n",
            "Iteration: 24\n",
            "Iteration: 25\n",
            "Iteration: 26\n",
            "Iteration: 27\n",
            "Iteration: 28\n",
            "Iteration: 29\n",
            "Test loss: 11.15\n",
            "Successfully moved out of source class: 1.00\n",
            "Test loss: 0.02\n",
            "Successfully perturbed to target class: 1.00\n",
            "Mean perturbation distance: 0.14\n"
          ],
          "name": "stdout"
        },
        {
          "output_type": "display_data",
          "data": {
            "image/png": "[encoded data removed]",
            "text/plain": [
              "<Figure size 432x288 with 1 Axes>"
            ]
          },
          "metadata": {
            "tags": [],
            "needs_background": "light"
          }
        }
      ]
    },
    {
      "cell_type": "markdown",
      "metadata": {
        "id": "pHzQ3fAMrGlz",
        "colab_type": "text"
      },
      "source": [
        "#Train a Simple MNIST CNN Classifier with Defensive Distillation then attack it "
      ]
    },
    {
      "cell_type": "code",
      "metadata": {
        "id": "nmxV3uFtkkLO",
        "colab_type": "code",
        "outputId": "cbfbebe2-ab9b-46a0-ae4d-8c12a9c67fd1",
        "colab": {
          "base_uri": "https://localhost:8080/",
          "height": 901
        }
      },
      "source": [
        "# train with distilation\n",
        "Temperature = 30\n",
        "teacher, student = trainAndTransferKnowladge(train_images,train_labels,test_images,test_labels, Temperature = Temperature, num_classes)"
      ],
      "execution_count": 0,
      "outputs": [
        {
          "output_type": "stream",
          "text": [
            "train teacher:\n",
            "Train on 60000 samples, validate on 10000 samples\n",
            "Epoch 1/12\n",
            "60000/60000 [==============================] - 33s 550us/sample - loss: 0.6923 - categorical_accuracy: 0.7987 - val_loss: 0.2408 - val_categorical_accuracy: 0.9301\n",
            "Epoch 2/12\n",
            "60000/60000 [==============================] - 32s 540us/sample - loss: 0.3189 - categorical_accuracy: 0.9044 - val_loss: 0.1783 - val_categorical_accuracy: 0.9468\n",
            "Epoch 3/12\n",
            "60000/60000 [==============================] - 33s 543us/sample - loss: 0.2653 - categorical_accuracy: 0.9207 - val_loss: 0.1424 - val_categorical_accuracy: 0.9571\n",
            "Epoch 4/12\n",
            "60000/60000 [==============================] - 32s 539us/sample - loss: 0.2324 - categorical_accuracy: 0.9290 - val_loss: 0.1226 - val_categorical_accuracy: 0.9619\n",
            "Epoch 5/12\n",
            "60000/60000 [==============================] - 33s 543us/sample - loss: 0.2168 - categorical_accuracy: 0.9333 - val_loss: 0.1110 - val_categorical_accuracy: 0.9666\n",
            "Epoch 6/12\n",
            "60000/60000 [==============================] - 32s 538us/sample - loss: 0.1990 - categorical_accuracy: 0.9405 - val_loss: 0.1025 - val_categorical_accuracy: 0.9692\n",
            "Epoch 7/12\n",
            "60000/60000 [==============================] - 32s 540us/sample - loss: 0.1832 - categorical_accuracy: 0.9442 - val_loss: 0.0920 - val_categorical_accuracy: 0.9725\n",
            "Epoch 8/12\n",
            "60000/60000 [==============================] - 32s 538us/sample - loss: 0.1669 - categorical_accuracy: 0.9484 - val_loss: 0.0850 - val_categorical_accuracy: 0.9744\n",
            "Epoch 9/12\n",
            "60000/60000 [==============================] - 32s 539us/sample - loss: 0.1544 - categorical_accuracy: 0.9534 - val_loss: 0.0733 - val_categorical_accuracy: 0.9779\n",
            "Epoch 10/12\n",
            "60000/60000 [==============================] - 32s 539us/sample - loss: 0.1426 - categorical_accuracy: 0.9581 - val_loss: 0.0682 - val_categorical_accuracy: 0.9794\n",
            "Epoch 11/12\n",
            "60000/60000 [==============================] - 33s 546us/sample - loss: 0.1278 - categorical_accuracy: 0.9616 - val_loss: 0.0654 - val_categorical_accuracy: 0.9807\n",
            "Epoch 12/12\n",
            "60000/60000 [==============================] - 32s 540us/sample - loss: 0.1193 - categorical_accuracy: 0.9636 - val_loss: 0.0581 - val_categorical_accuracy: 0.9825\n",
            "train teacher:\n",
            "Train on 60000 samples, validate on 10000 samples\n",
            "Epoch 1/12\n",
            "60000/60000 [==============================] - 33s 543us/sample - loss: 0.7075 - categorical_accuracy: 0.7897 - val_loss: 0.2476 - val_categorical_accuracy: 0.9280\n",
            "Epoch 2/12\n",
            "60000/60000 [==============================] - 33s 543us/sample - loss: 0.3139 - categorical_accuracy: 0.9086 - val_loss: 0.1820 - val_categorical_accuracy: 0.9445\n",
            "Epoch 3/12\n",
            "60000/60000 [==============================] - 33s 547us/sample - loss: 0.2639 - categorical_accuracy: 0.9247 - val_loss: 0.1532 - val_categorical_accuracy: 0.9556\n",
            "Epoch 4/12\n",
            "60000/60000 [==============================] - 33s 551us/sample - loss: 0.2338 - categorical_accuracy: 0.9342 - val_loss: 0.1309 - val_categorical_accuracy: 0.9609\n",
            "Epoch 5/12\n",
            "60000/60000 [==============================] - 33s 546us/sample - loss: 0.2156 - categorical_accuracy: 0.9413 - val_loss: 0.1183 - val_categorical_accuracy: 0.9648\n",
            "Epoch 6/12\n",
            "60000/60000 [==============================] - 33s 550us/sample - loss: 0.1979 - categorical_accuracy: 0.9473 - val_loss: 0.1115 - val_categorical_accuracy: 0.9652\n",
            "Epoch 7/12\n",
            "60000/60000 [==============================] - 33s 550us/sample - loss: 0.1858 - categorical_accuracy: 0.9510 - val_loss: 0.1023 - val_categorical_accuracy: 0.9690\n",
            "Epoch 8/12\n",
            "60000/60000 [==============================] - 33s 546us/sample - loss: 0.1773 - categorical_accuracy: 0.9548 - val_loss: 0.0950 - val_categorical_accuracy: 0.9702\n",
            "Epoch 9/12\n",
            "60000/60000 [==============================] - 33s 548us/sample - loss: 0.1670 - categorical_accuracy: 0.9593 - val_loss: 0.0891 - val_categorical_accuracy: 0.9725\n",
            "Epoch 10/12\n",
            "60000/60000 [==============================] - 33s 549us/sample - loss: 0.1572 - categorical_accuracy: 0.9622 - val_loss: 0.0823 - val_categorical_accuracy: 0.9747\n",
            "Epoch 11/12\n",
            "60000/60000 [==============================] - 33s 543us/sample - loss: 0.1513 - categorical_accuracy: 0.9653 - val_loss: 0.0770 - val_categorical_accuracy: 0.9770\n",
            "Epoch 12/12\n",
            "60000/60000 [==============================] - 33s 555us/sample - loss: 0.1451 - categorical_accuracy: 0.9676 - val_loss: 0.0749 - val_categorical_accuracy: 0.9766\n"
          ],
          "name": "stdout"
        }
      ]
    },
    {
      "cell_type": "code",
      "metadata": {
        "id": "fH_-VBtr5ehf",
        "colab_type": "code",
        "colab": {}
      },
      "source": [
        "student.compile(loss='categorical_crossentropy',\n",
        "              optimizer=keras.optimizers.Adam(),\n",
        "              metrics=[keras.metrics.CategoricalAccuracy()])"
      ],
      "execution_count": 0,
      "outputs": []
    },
    {
      "cell_type": "code",
      "metadata": {
        "id": "KpAOf7UU4B_8",
        "colab_type": "code",
        "outputId": "39d32bb7-9c20-46d2-f4a1-14a94aa9263c",
        "colab": {
          "base_uri": "https://localhost:8080/",
          "height": 316
        }
      },
      "source": [
        "adv_images = FastGradientSignMethod(student, test_images, test_labels, epsilon=0.3)\n",
        "TestAttack(student, adv_images, test_images, test_labels, targeted=False)"
      ],
      "execution_count": 0,
      "outputs": [
        {
          "output_type": "stream",
          "text": [
            "Test loss: 14.22\n",
            "Successfully moved out of source class: 0.09\n",
            "Mean perturbation distance: 0.02\n"
          ],
          "name": "stdout"
        },
        {
          "output_type": "display_data",
          "data": {
            "image/png": "[encoded data removed]",
            "text/plain": [
              "<Figure size 432x288 with 1 Axes>"
            ]
          },
          "metadata": {
            "tags": [],
            "needs_background": "light"
          }
        }
      ]
    },
    {
      "cell_type": "code",
      "metadata": {
        "id": "G3l_2SHYujvn",
        "colab_type": "code",
        "outputId": "ac58ad7a-e6db-4783-88ee-4de9c646b8f4",
        "colab": {
          "base_uri": "https://localhost:8080/",
          "height": 350
        }
      },
      "source": [
        "target = (np.argmax(test_labels, axis=1) + np.random.randint(1, num_classes, size=(test_labels.shape[0]))) % num_classes\n",
        "target = keras.utils.to_categorical(target, num_classes)\n",
        "adv_images = TargetedGradientSignMethod(student, test_images, target, epsilon=0.3)\n",
        "TestAttack(student, adv_images, test_images, test_labels, target, targeted=True)"
      ],
      "execution_count": 0,
      "outputs": [
        {
          "output_type": "stream",
          "text": [
            "Test loss: 30.96\n",
            "Successfully moved out of source class: 0.53\n",
            "Test loss: 45.98\n",
            "Successfully perturbed to target class: 0.28\n",
            "Mean perturbation distance: 0.23\n"
          ],
          "name": "stdout"
        },
        {
          "output_type": "display_data",
          "data": {
            "image/png": "[encoded data removed]",
            "text/plain": [
              "<Figure size 432x288 with 1 Axes>"
            ]
          },
          "metadata": {
            "tags": [],
            "needs_background": "light"
          }
        }
      ]
    },
    {
      "cell_type": "code",
      "metadata": {
        "id": "NE7f4n5o7md9",
        "colab_type": "code",
        "outputId": "22ab69f5-b2dd-4935-a960-f94fbe900c7e",
        "colab": {
          "base_uri": "https://localhost:8080/",
          "height": 826
        }
      },
      "source": [
        "adv_images = BasicIterativeMethod(student, test_images, test_labels, iterations = 30, epsilon=4.0, iter_eps=0.05, targeted=False)\n",
        "TestAttack(student, adv_images, test_images, test_labels, target, targeted=False)"
      ],
      "execution_count": 0,
      "outputs": [
        {
          "output_type": "stream",
          "text": [
            "Iteration: 0\n",
            "Iteration: 1\n",
            "Iteration: 2\n",
            "Iteration: 3\n",
            "Iteration: 4\n",
            "Iteration: 5\n",
            "Iteration: 6\n",
            "Iteration: 7\n",
            "Iteration: 8\n",
            "Iteration: 9\n",
            "Iteration: 10\n",
            "Iteration: 11\n",
            "Iteration: 12\n",
            "Iteration: 13\n",
            "Iteration: 14\n",
            "Iteration: 15\n",
            "Iteration: 16\n",
            "Iteration: 17\n",
            "Iteration: 18\n",
            "Iteration: 19\n",
            "Iteration: 20\n",
            "Iteration: 21\n",
            "Iteration: 22\n",
            "Iteration: 23\n",
            "Iteration: 24\n",
            "Iteration: 25\n",
            "Iteration: 26\n",
            "Iteration: 27\n",
            "Iteration: 28\n",
            "Iteration: 29\n",
            "Test loss: 33.73\n",
            "Successfully moved out of source class: 0.09\n",
            "Mean perturbation distance: 0.01\n"
          ],
          "name": "stdout"
        },
        {
          "output_type": "display_data",
          "data": {
            "image/png": "[encoded data removed]",
            "text/plain": [
              "<Figure size 432x288 with 1 Axes>"
            ]
          },
          "metadata": {
            "tags": [],
            "needs_background": "light"
          }
        }
      ]
    },
    {
      "cell_type": "code",
      "metadata": {
        "id": "oK6E-zMTvS21",
        "colab_type": "code",
        "outputId": "43bce812-7e98-4f6f-be97-cf8b115bdb31",
        "colab": {
          "base_uri": "https://localhost:8080/",
          "height": 860
        }
      },
      "source": [
        "adv_images = BasicIterativeMethod(student, test_images, target, iterations = 30, epsilon=4.0, iter_eps=0.05, targeted=True)\n",
        "TestAttack(student, adv_images, test_images, test_labels, target, targeted=True)\n"
      ],
      "execution_count": 0,
      "outputs": [
        {
          "output_type": "stream",
          "text": [
            "Iteration: 0\n",
            "Iteration: 1\n",
            "Iteration: 2\n",
            "Iteration: 3\n",
            "Iteration: 4\n",
            "Iteration: 5\n",
            "Iteration: 6\n",
            "Iteration: 7\n",
            "Iteration: 8\n",
            "Iteration: 9\n",
            "Iteration: 10\n",
            "Iteration: 11\n",
            "Iteration: 12\n",
            "Iteration: 13\n",
            "Iteration: 14\n",
            "Iteration: 15\n",
            "Iteration: 16\n",
            "Iteration: 17\n",
            "Iteration: 18\n",
            "Iteration: 19\n",
            "Iteration: 20\n",
            "Iteration: 21\n",
            "Iteration: 22\n",
            "Iteration: 23\n",
            "Iteration: 24\n",
            "Iteration: 25\n",
            "Iteration: 26\n",
            "Iteration: 27\n",
            "Iteration: 28\n",
            "Iteration: 29\n",
            "Test loss: 41.42\n",
            "Successfully moved out of source class: 0.81\n",
            "Test loss: 10.80\n",
            "Successfully perturbed to target class: 0.76\n",
            "Mean perturbation distance: 0.14\n"
          ],
          "name": "stdout"
        },
        {
          "output_type": "display_data",
          "data": {
            "image/png": "[encoded data removed]",
            "text/plain": [
              "<Figure size 432x288 with 1 Axes>"
            ]
          },
          "metadata": {
            "tags": [],
            "needs_background": "light"
          }
        }
      ]
    },
    {
      "cell_type": "markdown",
      "metadata": {
        "id": "K_v0yAxV83FF",
        "colab_type": "text"
      },
      "source": [
        "#Exploring Binary classification case"
      ]
    },
    {
      "cell_type": "code",
      "metadata": {
        "id": "U_d56AFn7i5I",
        "colab_type": "code",
        "colab": {}
      },
      "source": [
        "# setup for the dataset\n",
        "class1 = np.random.randint(0,10)\n",
        "class2 = (class1 + np.random.randint(1,10)) % 10\n",
        "\n",
        "class1_train = train_images[np.where(train_labels[:,class1]==1)]\n",
        "class1_train_labels = train_labels[np.where(train_labels[:,class1]==1)]\n",
        "class2_train = train_images[np.where(train_labels[:,class2]==1)]\n",
        "class2_train_labels = train_labels[np.where(train_labels[:,class2]==1)]\n",
        "\n",
        "binary_train = np.concatenate([class1_train, class2_train], axis=0)\n",
        "binary_train_labels = np.concatenate([class1_train_labels, class2_train_labels],axis=0)\n",
        "\n",
        "class1_test = test_images[np.where(test_labels[:,class1]==1)]\n",
        "class1_test_labels = test_labels[np.where(test_labels[:,class1]==1)]\n",
        "class2_test = test_images[np.where(test_labels[:,class2]==1)]\n",
        "class2_test_labels = test_labels[np.where(test_labels[:,class2]==1)]\n",
        "\n",
        "binary_test = np.concatenate([class1_test, class2_test], axis = 0)\n",
        "binary_test_labels = np.concatenate([class1_test_labels, class2_test_labels], axis = 0)\n"
      ],
      "execution_count": 0,
      "outputs": []
    },
    {
      "cell_type": "code",
      "metadata": {
        "id": "lXxtsIqxBqvr",
        "colab_type": "code",
        "colab": {}
      },
      "source": [
        "# change the labels to 2 classes:\n",
        "num_classes = 2\n",
        "\n",
        "binary_train_labels = np.argmax(binary_train_labels, axis=-1)\n",
        "binary_test_labels = np.argmax(binary_test_labels, axis=-1)\n",
        "\n",
        "for i in range(binary_train_labels.shape[0]):\n",
        "  if binary_train_labels[i] == class1:\n",
        "    binary_train_labels[i] = 0\n",
        "  else: binary_train_labels[i] = 1\n",
        "\n",
        "for i in range(binary_test_labels.shape[0]):\n",
        "  if binary_test_labels[i] == class1:\n",
        "    binary_test_labels[i] = 0\n",
        "  else: binary_test_labels[i] = 1\n",
        "\n",
        "\n",
        "binary_train_labels = keras.utils.to_categorical(binary_train_labels, num_classes)\n",
        "binary_test_labels = keras.utils.to_categorical(binary_test_labels, num_classes)\n",
        "\n",
        "# suffle the train and test to be randomlike\n",
        "for i in range(10): #im shuffeling more cuz im paranoid\n",
        "  binary_train, binary_train_labels = shuffle(binary_train, binary_train_labels) \n",
        "  binary_test, binary_test_labels = shuffle(binary_test, binary_test_labels)\n"
      ],
      "execution_count": 0,
      "outputs": []
    },
    {
      "cell_type": "markdown",
      "metadata": {
        "id": "9oFUIkoVbp7v",
        "colab_type": "text"
      },
      "source": [
        "## Simple binary classifier model"
      ]
    },
    {
      "cell_type": "markdown",
      "metadata": {
        "id": "HH-Wd8k3du84",
        "colab_type": "text"
      },
      "source": [
        "Train the simple model"
      ]
    },
    {
      "cell_type": "code",
      "metadata": {
        "id": "6AqXqhVmNKD9",
        "colab_type": "code",
        "outputId": "187f0dbe-6ecc-4a74-acf4-f96b5d9557d6",
        "colab": {
          "base_uri": "https://localhost:8080/",
          "height": 442
        }
      },
      "source": [
        "# Train the model\n",
        "batch_size = 128\n",
        "maxepoches = 12\n",
        "\n",
        "model = build_mnist_model(num_classes)\n",
        "\n",
        "model.compile(loss='categorical_crossentropy',\n",
        "              optimizer=keras.optimizers.Adam(),\n",
        "              metrics=[keras.metrics.CategoricalAccuracy()])\n",
        "\n",
        "history = model.fit(binary_train, binary_train_labels,\n",
        "                    batch_size=batch_size,\n",
        "                    epochs=maxepoches,\n",
        "                    verbose=1,\n",
        "                    validation_data=(binary_test, binary_test_labels))"
      ],
      "execution_count": 0,
      "outputs": [
        {
          "output_type": "stream",
          "text": [
            "Train on 12223 samples, validate on 2060 samples\n",
            "Epoch 1/12\n",
            "12223/12223 [==============================] - 10s 779us/sample - loss: 0.1072 - categorical_accuracy: 0.9645 - val_loss: 0.0659 - val_categorical_accuracy: 0.9791\n",
            "Epoch 2/12\n",
            "12223/12223 [==============================] - 7s 593us/sample - loss: 0.0404 - categorical_accuracy: 0.9863 - val_loss: 0.0485 - val_categorical_accuracy: 0.9840\n",
            "Epoch 3/12\n",
            "12223/12223 [==============================] - 7s 595us/sample - loss: 0.0324 - categorical_accuracy: 0.9892 - val_loss: 0.0414 - val_categorical_accuracy: 0.9859\n",
            "Epoch 4/12\n",
            "12223/12223 [==============================] - 7s 588us/sample - loss: 0.0251 - categorical_accuracy: 0.9923 - val_loss: 0.0297 - val_categorical_accuracy: 0.9898\n",
            "Epoch 5/12\n",
            "12223/12223 [==============================] - 7s 586us/sample - loss: 0.0210 - categorical_accuracy: 0.9935 - val_loss: 0.0266 - val_categorical_accuracy: 0.9917\n",
            "Epoch 6/12\n",
            "12223/12223 [==============================] - 7s 587us/sample - loss: 0.0165 - categorical_accuracy: 0.9947 - val_loss: 0.0254 - val_categorical_accuracy: 0.9927\n",
            "Epoch 7/12\n",
            "12223/12223 [==============================] - 7s 585us/sample - loss: 0.0147 - categorical_accuracy: 0.9948 - val_loss: 0.0255 - val_categorical_accuracy: 0.9917\n",
            "Epoch 8/12\n",
            "12223/12223 [==============================] - 7s 587us/sample - loss: 0.0151 - categorical_accuracy: 0.9953 - val_loss: 0.0234 - val_categorical_accuracy: 0.9932\n",
            "Epoch 9/12\n",
            "12223/12223 [==============================] - 7s 589us/sample - loss: 0.0117 - categorical_accuracy: 0.9966 - val_loss: 0.0281 - val_categorical_accuracy: 0.9893\n",
            "Epoch 10/12\n",
            "12223/12223 [==============================] - 7s 590us/sample - loss: 0.0123 - categorical_accuracy: 0.9964 - val_loss: 0.0210 - val_categorical_accuracy: 0.9922\n",
            "Epoch 11/12\n",
            "12223/12223 [==============================] - 7s 586us/sample - loss: 0.0084 - categorical_accuracy: 0.9974 - val_loss: 0.0235 - val_categorical_accuracy: 0.9922\n",
            "Epoch 12/12\n",
            "12223/12223 [==============================] - 7s 587us/sample - loss: 0.0090 - categorical_accuracy: 0.9974 - val_loss: 0.0231 - val_categorical_accuracy: 0.9932\n"
          ],
          "name": "stdout"
        }
      ]
    },
    {
      "cell_type": "markdown",
      "metadata": {
        "id": "mllwEzSqd54K",
        "colab_type": "text"
      },
      "source": [
        "Attack the simple model"
      ]
    },
    {
      "cell_type": "code",
      "metadata": {
        "id": "lpy44TtTdjXk",
        "colab_type": "code",
        "outputId": "8efa5883-9e7d-498e-98c8-58dd3bde5e3c",
        "colab": {
          "base_uri": "https://localhost:8080/",
          "height": 316
        }
      },
      "source": [
        "adv_images = FastGradientSignMethod(model, binary_test, binary_test_labels, epsilon=0.3)\n",
        "TestAttack(model, adv_images, binary_test, binary_test_labels, targeted=False)"
      ],
      "execution_count": 0,
      "outputs": [
        {
          "output_type": "stream",
          "text": [
            "Test loss: 4.58\n",
            "Successfully moved out of source class: 0.71\n",
            "Mean perturbation distance: 0.24\n"
          ],
          "name": "stdout"
        },
        {
          "output_type": "display_data",
          "data": {
            "image/png": "[encoded data removed]",
            "text/plain": [
              "<Figure size 432x288 with 1 Axes>"
            ]
          },
          "metadata": {
            "tags": [],
            "needs_background": "light"
          }
        }
      ]
    },
    {
      "cell_type": "code",
      "metadata": {
        "id": "j2RmuWFreOrR",
        "colab_type": "code",
        "outputId": "d4b9c5e8-adfd-46c4-9f26-401103aa72ba",
        "colab": {
          "base_uri": "https://localhost:8080/",
          "height": 350
        }
      },
      "source": [
        "target = (np.argmax(binary_test_labels, axis=1) + np.random.randint(1, num_classes, size=(binary_test_labels.shape[0]))) % num_classes\n",
        "target = keras.utils.to_categorical(target, num_classes)\n",
        "adv_images = TargetedGradientSignMethod(model, binary_test, target, epsilon=0.3)\n",
        "TestAttack(model, adv_images, binary_test, binary_test_labels, target, targeted=True)"
      ],
      "execution_count": 0,
      "outputs": [
        {
          "output_type": "stream",
          "text": [
            "Test loss: 4.60\n",
            "Successfully moved out of source class: 0.70\n",
            "Test loss: 1.12\n",
            "Successfully perturbed to target class: 0.70\n",
            "Mean perturbation distance: 0.24\n"
          ],
          "name": "stdout"
        },
        {
          "output_type": "display_data",
          "data": {
            "image/png": "[encoded data removed]",
            "text/plain": [
              "<Figure size 432x288 with 1 Axes>"
            ]
          },
          "metadata": {
            "tags": [],
            "needs_background": "light"
          }
        }
      ]
    },
    {
      "cell_type": "code",
      "metadata": {
        "id": "X2FuU6Akfgqh",
        "colab_type": "code",
        "outputId": "71a476c9-4dbb-4823-9ab0-44c5a069ab4a",
        "colab": {
          "base_uri": "https://localhost:8080/",
          "height": 826
        }
      },
      "source": [
        "adv_images = BasicIterativeMethod(model, binary_test, binary_test_labels, iterations = 30, epsilon=4.0, iter_eps=0.05, targeted=False)\n",
        "TestAttack(model, adv_images, binary_test, binary_test_labels, target, targeted=False)"
      ],
      "execution_count": 0,
      "outputs": [
        {
          "output_type": "stream",
          "text": [
            "Iteration: 0\n",
            "Iteration: 1\n",
            "Iteration: 2\n",
            "Iteration: 3\n",
            "Iteration: 4\n",
            "Iteration: 5\n",
            "Iteration: 6\n",
            "Iteration: 7\n",
            "Iteration: 8\n",
            "Iteration: 9\n",
            "Iteration: 10\n",
            "Iteration: 11\n",
            "Iteration: 12\n",
            "Iteration: 13\n",
            "Iteration: 14\n",
            "Iteration: 15\n",
            "Iteration: 16\n",
            "Iteration: 17\n",
            "Iteration: 18\n",
            "Iteration: 19\n",
            "Iteration: 20\n",
            "Iteration: 21\n",
            "Iteration: 22\n",
            "Iteration: 23\n",
            "Iteration: 24\n",
            "Iteration: 25\n",
            "Iteration: 26\n",
            "Iteration: 27\n",
            "Iteration: 28\n",
            "Iteration: 29\n",
            "Test loss: 10.73\n",
            "Successfully moved out of source class: 0.98\n",
            "Mean perturbation distance: 0.14\n"
          ],
          "name": "stdout"
        },
        {
          "output_type": "display_data",
          "data": {
            "image/png": "[encoded data removed]",
            "text/plain": [
              "<Figure size 432x288 with 1 Axes>"
            ]
          },
          "metadata": {
            "tags": [],
            "needs_background": "light"
          }
        }
      ]
    },
    {
      "cell_type": "code",
      "metadata": {
        "id": "mQftQpaXfwyd",
        "colab_type": "code",
        "outputId": "920002e1-f728-4fd4-dbae-386f2be45aaa",
        "colab": {
          "base_uri": "https://localhost:8080/",
          "height": 860
        }
      },
      "source": [
        "adv_images = BasicIterativeMethod(model, binary_test, target, iterations = 30, epsilon=4.0, iter_eps=0.05, targeted=True)\n",
        "TestAttack(model, adv_images, binary_test, binary_test_labels, target, targeted=True)"
      ],
      "execution_count": 0,
      "outputs": [
        {
          "output_type": "stream",
          "text": [
            "Iteration: 0\n",
            "Iteration: 1\n",
            "Iteration: 2\n",
            "Iteration: 3\n",
            "Iteration: 4\n",
            "Iteration: 5\n",
            "Iteration: 6\n",
            "Iteration: 7\n",
            "Iteration: 8\n",
            "Iteration: 9\n",
            "Iteration: 10\n",
            "Iteration: 11\n",
            "Iteration: 12\n",
            "Iteration: 13\n",
            "Iteration: 14\n",
            "Iteration: 15\n",
            "Iteration: 16\n",
            "Iteration: 17\n",
            "Iteration: 18\n",
            "Iteration: 19\n",
            "Iteration: 20\n",
            "Iteration: 21\n",
            "Iteration: 22\n",
            "Iteration: 23\n",
            "Iteration: 24\n",
            "Iteration: 25\n",
            "Iteration: 26\n",
            "Iteration: 27\n",
            "Iteration: 28\n",
            "Iteration: 29\n",
            "Test loss: 10.71\n",
            "Successfully moved out of source class: 0.98\n",
            "Test loss: 0.04\n",
            "Successfully perturbed to target class: 0.98\n",
            "Mean perturbation distance: 0.14\n"
          ],
          "name": "stdout"
        },
        {
          "output_type": "display_data",
          "data": {
            "image/png": "[encoded data removed]",
            "text/plain": [
              "<Figure size 432x288 with 1 Axes>"
            ]
          },
          "metadata": {
            "tags": [],
            "needs_background": "light"
          }
        }
      ]
    },
    {
      "cell_type": "markdown",
      "metadata": {
        "id": "qraS4-B4iYJu",
        "colab_type": "text"
      },
      "source": [
        "## Simple binary classifier with Defensive Distilation"
      ]
    },
    {
      "cell_type": "code",
      "metadata": {
        "id": "EoyxzNIUkiKC",
        "colab_type": "code",
        "outputId": "dde8946f-fce8-404c-e9aa-f0776752d0a0",
        "colab": {
          "base_uri": "https://localhost:8080/",
          "height": 901
        }
      },
      "source": [
        "# train with distilation\n",
        "Temperature = 30\n",
        "teacher, student = trainAndTransferKnowladge(binary_train,binary_train_labels,binary_test,binary_test_labels, Temperature, num_classes)"
      ],
      "execution_count": 0,
      "outputs": [
        {
          "output_type": "stream",
          "text": [
            "train teacher:\n",
            "Train on 12223 samples, validate on 2060 samples\n",
            "Epoch 1/12\n",
            "12223/12223 [==============================] - 9s 736us/sample - loss: 0.2179 - categorical_accuracy: 0.9584 - val_loss: 0.0810 - val_categorical_accuracy: 0.9752\n",
            "Epoch 2/12\n",
            "12223/12223 [==============================] - 7s 610us/sample - loss: 0.0548 - categorical_accuracy: 0.9803 - val_loss: 0.0719 - val_categorical_accuracy: 0.9752\n",
            "Epoch 3/12\n",
            "12223/12223 [==============================] - 8s 622us/sample - loss: 0.0466 - categorical_accuracy: 0.9848 - val_loss: 0.0584 - val_categorical_accuracy: 0.9820\n",
            "Epoch 4/12\n",
            "12223/12223 [==============================] - 8s 621us/sample - loss: 0.0408 - categorical_accuracy: 0.9863 - val_loss: 0.0551 - val_categorical_accuracy: 0.9825\n",
            "Epoch 5/12\n",
            "12223/12223 [==============================] - 8s 617us/sample - loss: 0.0378 - categorical_accuracy: 0.9880 - val_loss: 0.0496 - val_categorical_accuracy: 0.9845\n",
            "Epoch 6/12\n",
            "12223/12223 [==============================] - 8s 626us/sample - loss: 0.0335 - categorical_accuracy: 0.9896 - val_loss: 0.0435 - val_categorical_accuracy: 0.9845\n",
            "Epoch 7/12\n",
            "12223/12223 [==============================] - 8s 619us/sample - loss: 0.0291 - categorical_accuracy: 0.9908 - val_loss: 0.0435 - val_categorical_accuracy: 0.9854\n",
            "Epoch 8/12\n",
            "12223/12223 [==============================] - 8s 619us/sample - loss: 0.0285 - categorical_accuracy: 0.9903 - val_loss: 0.0326 - val_categorical_accuracy: 0.9908\n",
            "Epoch 9/12\n",
            "12223/12223 [==============================] - 8s 667us/sample - loss: 0.0240 - categorical_accuracy: 0.9925 - val_loss: 0.0360 - val_categorical_accuracy: 0.9869\n",
            "Epoch 10/12\n",
            "12223/12223 [==============================] - 8s 636us/sample - loss: 0.0223 - categorical_accuracy: 0.9935 - val_loss: 0.0295 - val_categorical_accuracy: 0.9903\n",
            "Epoch 11/12\n",
            "12223/12223 [==============================] - 8s 623us/sample - loss: 0.0219 - categorical_accuracy: 0.9930 - val_loss: 0.0280 - val_categorical_accuracy: 0.9908\n",
            "Epoch 12/12\n",
            "12223/12223 [==============================] - 8s 614us/sample - loss: 0.0193 - categorical_accuracy: 0.9939 - val_loss: 0.0272 - val_categorical_accuracy: 0.9913\n",
            "train student:\n",
            "Train on 12223 samples, validate on 2060 samples\n",
            "Epoch 1/12\n",
            "12223/12223 [==============================] - 9s 752us/sample - loss: 0.2303 - categorical_accuracy: 0.9417 - val_loss: 0.0814 - val_categorical_accuracy: 0.9743\n",
            "Epoch 2/12\n",
            "12223/12223 [==============================] - 8s 622us/sample - loss: 0.0509 - categorical_accuracy: 0.9841 - val_loss: 0.0650 - val_categorical_accuracy: 0.9782\n",
            "Epoch 3/12\n",
            "12223/12223 [==============================] - 8s 620us/sample - loss: 0.0415 - categorical_accuracy: 0.9882 - val_loss: 0.0595 - val_categorical_accuracy: 0.9825\n",
            "Epoch 4/12\n",
            "12223/12223 [==============================] - 8s 619us/sample - loss: 0.0384 - categorical_accuracy: 0.9888 - val_loss: 0.0512 - val_categorical_accuracy: 0.9850\n",
            "Epoch 5/12\n",
            "12223/12223 [==============================] - 8s 619us/sample - loss: 0.0347 - categorical_accuracy: 0.9908 - val_loss: 0.0481 - val_categorical_accuracy: 0.9854\n",
            "Epoch 6/12\n",
            "12223/12223 [==============================] - 8s 636us/sample - loss: 0.0319 - categorical_accuracy: 0.9925 - val_loss: 0.0432 - val_categorical_accuracy: 0.9864\n",
            "Epoch 7/12\n",
            "12223/12223 [==============================] - 8s 631us/sample - loss: 0.0317 - categorical_accuracy: 0.9924 - val_loss: 0.0413 - val_categorical_accuracy: 0.9850\n",
            "Epoch 8/12\n",
            "12223/12223 [==============================] - 8s 629us/sample - loss: 0.0288 - categorical_accuracy: 0.9936 - val_loss: 0.0370 - val_categorical_accuracy: 0.9879\n",
            "Epoch 9/12\n",
            "12223/12223 [==============================] - 8s 632us/sample - loss: 0.0273 - categorical_accuracy: 0.9941 - val_loss: 0.0362 - val_categorical_accuracy: 0.9874\n",
            "Epoch 10/12\n",
            "12223/12223 [==============================] - 8s 631us/sample - loss: 0.0270 - categorical_accuracy: 0.9950 - val_loss: 0.0319 - val_categorical_accuracy: 0.9893\n",
            "Epoch 11/12\n",
            "12223/12223 [==============================] - 8s 646us/sample - loss: 0.0256 - categorical_accuracy: 0.9953 - val_loss: 0.0342 - val_categorical_accuracy: 0.9883\n",
            "Epoch 12/12\n",
            "12223/12223 [==============================] - 8s 664us/sample - loss: 0.0246 - categorical_accuracy: 0.9969 - val_loss: 0.0329 - val_categorical_accuracy: 0.9898\n"
          ],
          "name": "stdout"
        }
      ]
    },
    {
      "cell_type": "code",
      "metadata": {
        "id": "L1Ey4y1IgG1y",
        "colab_type": "code",
        "colab": {}
      },
      "source": [
        "student.compile(loss='categorical_crossentropy',\n",
        "              optimizer=keras.optimizers.Adam(),\n",
        "              metrics=[keras.metrics.CategoricalAccuracy()])"
      ],
      "execution_count": 0,
      "outputs": []
    },
    {
      "cell_type": "code",
      "metadata": {
        "id": "nji3xEEJgz_n",
        "colab_type": "code",
        "outputId": "bfafada9-16b3-4be2-b309-e2f860b688f8",
        "colab": {
          "base_uri": "https://localhost:8080/",
          "height": 316
        }
      },
      "source": [
        "adv_images = FastGradientSignMethod(student, binary_test, binary_test_labels, epsilon=0.3)\n",
        "TestAttack(student, adv_images, binary_test, binary_test_labels, targeted=False)"
      ],
      "execution_count": 0,
      "outputs": [
        {
          "output_type": "stream",
          "text": [
            "Test loss: 9.38\n",
            "Successfully moved out of source class: 0.04\n",
            "Mean perturbation distance: 0.01\n"
          ],
          "name": "stdout"
        },
        {
          "output_type": "display_data",
          "data": {
            "image/png": "[encoded data removed]",
            "text/plain": [
              "<Figure size 432x288 with 1 Axes>"
            ]
          },
          "metadata": {
            "tags": [],
            "needs_background": "light"
          }
        }
      ]
    },
    {
      "cell_type": "code",
      "metadata": {
        "id": "38O3URySQc97",
        "colab_type": "code",
        "outputId": "faa60af5-e345-4de1-fdc6-aed39fa0cb4b",
        "colab": {
          "base_uri": "https://localhost:8080/",
          "height": 350
        }
      },
      "source": [
        "target = (np.argmax(binary_test_labels, axis=1) + np.random.randint(1, num_classes, size=(binary_test_labels.shape[0]))) % num_classes\n",
        "target = keras.utils.to_categorical(target, num_classes)\n",
        "adv_images = TargetedGradientSignMethod(student, binary_test, target, epsilon=0.3)\n",
        "TestAttack(student, adv_images, binary_test, binary_test_labels, target, targeted=True)"
      ],
      "execution_count": 0,
      "outputs": [
        {
          "output_type": "stream",
          "text": [
            "Test loss: 57.65\n",
            "Successfully moved out of source class: 0.55\n",
            "Test loss: 42.35\n",
            "Successfully perturbed to target class: 0.55\n",
            "Mean perturbation distance: 0.24\n"
          ],
          "name": "stdout"
        },
        {
          "output_type": "display_data",
          "data": {
            "image/png": "[encoded data removed]",
            "text/plain": [
              "<Figure size 432x288 with 1 Axes>"
            ]
          },
          "metadata": {
            "tags": [],
            "needs_background": "light"
          }
        }
      ]
    },
    {
      "cell_type": "code",
      "metadata": {
        "id": "RRCbDfOPQc0r",
        "colab_type": "code",
        "outputId": "699ea2a1-ca84-4b46-fc1d-9d048438fb2a",
        "colab": {
          "base_uri": "https://localhost:8080/",
          "height": 826
        }
      },
      "source": [
        "adv_images = BasicIterativeMethod(student, binary_test, binary_test_labels, iterations = 30, epsilon=4.0, iter_eps=0.05, targeted=False)\n",
        "TestAttack(student, adv_images, binary_test, binary_test_labels, target, targeted=False)"
      ],
      "execution_count": 0,
      "outputs": [
        {
          "output_type": "stream",
          "text": [
            "Iteration: 0\n",
            "Iteration: 1\n",
            "Iteration: 2\n",
            "Iteration: 3\n",
            "Iteration: 4\n",
            "Iteration: 5\n",
            "Iteration: 6\n",
            "Iteration: 7\n",
            "Iteration: 8\n",
            "Iteration: 9\n",
            "Iteration: 10\n",
            "Iteration: 11\n",
            "Iteration: 12\n",
            "Iteration: 13\n",
            "Iteration: 14\n",
            "Iteration: 15\n",
            "Iteration: 16\n",
            "Iteration: 17\n",
            "Iteration: 18\n",
            "Iteration: 19\n",
            "Iteration: 20\n",
            "Iteration: 21\n",
            "Iteration: 22\n",
            "Iteration: 23\n",
            "Iteration: 24\n",
            "Iteration: 25\n",
            "Iteration: 26\n",
            "Iteration: 27\n",
            "Iteration: 28\n",
            "Iteration: 29\n",
            "Test loss: 13.31\n",
            "Successfully moved out of source class: 0.04\n",
            "Mean perturbation distance: 0.01\n"
          ],
          "name": "stdout"
        },
        {
          "output_type": "display_data",
          "data": {
            "image/png": "[encoded data removed]",
            "text/plain": [
              "<Figure size 432x288 with 1 Axes>"
            ]
          },
          "metadata": {
            "tags": [],
            "needs_background": "light"
          }
        }
      ]
    },
    {
      "cell_type": "code",
      "metadata": {
        "id": "VXFp-ukvQjTb",
        "colab_type": "code",
        "outputId": "d3e598f7-8aef-4286-fee7-0a334cbf1d3a",
        "colab": {
          "base_uri": "https://localhost:8080/",
          "height": 860
        }
      },
      "source": [
        "adv_images = BasicIterativeMethod(student, binary_test, target, iterations = 30, epsilon=4.0, iter_eps=0.05, targeted=True)\n",
        "TestAttack(student, adv_images, binary_test, binary_test_labels, target, targeted=True)"
      ],
      "execution_count": 0,
      "outputs": [
        {
          "output_type": "stream",
          "text": [
            "Iteration: 0\n",
            "Iteration: 1\n",
            "Iteration: 2\n",
            "Iteration: 3\n",
            "Iteration: 4\n",
            "Iteration: 5\n",
            "Iteration: 6\n",
            "Iteration: 7\n",
            "Iteration: 8\n",
            "Iteration: 9\n",
            "Iteration: 10\n",
            "Iteration: 11\n",
            "Iteration: 12\n",
            "Iteration: 13\n",
            "Iteration: 14\n",
            "Iteration: 15\n",
            "Iteration: 16\n",
            "Iteration: 17\n",
            "Iteration: 18\n",
            "Iteration: 19\n",
            "Iteration: 20\n",
            "Iteration: 21\n",
            "Iteration: 22\n",
            "Iteration: 23\n",
            "Iteration: 24\n",
            "Iteration: 25\n",
            "Iteration: 26\n",
            "Iteration: 27\n",
            "Iteration: 28\n",
            "Iteration: 29\n",
            "Test loss: 76.71\n",
            "Successfully moved out of source class: 0.70\n",
            "Test loss: 27.86\n",
            "Successfully perturbed to target class: 0.70\n",
            "Mean perturbation distance: 0.13\n"
          ],
          "name": "stdout"
        },
        {
          "output_type": "display_data",
          "data": {
            "image/png": "[encoded data removed]",
            "text/plain": [
              "<Figure size 432x288 with 1 Axes>"
            ]
          },
          "metadata": {
            "tags": [],
            "needs_background": "light"
          }
        }
      ]
    },
    {
      "cell_type": "markdown",
      "metadata": {
        "id": "DdZAOFNIUbhu",
        "colab_type": "text"
      },
      "source": [
        "## Visualization for Defensive Distillation"
      ]
    },
    {
      "cell_type": "markdown",
      "metadata": {
        "id": "VYVcHL-1U5Tu",
        "colab_type": "text"
      },
      "source": [
        "Logits & softmax outputs for regular model"
      ]
    },
    {
      "cell_type": "code",
      "metadata": {
        "id": "6vSvV2nOVIks",
        "colab_type": "code",
        "colab": {}
      },
      "source": [
        "Logits_out = tf.keras.models.Model(inputs=model.input,\n",
        "                    outputs=model.layers[-2].output)\n"
      ],
      "execution_count": 0,
      "outputs": []
    },
    {
      "cell_type": "code",
      "metadata": {
        "id": "a69JHHczZVF8",
        "colab_type": "code",
        "outputId": "ba6de59b-094b-48b4-90a6-f5f0d2f859f5",
        "colab": {
          "base_uri": "https://localhost:8080/",
          "height": 297
        }
      },
      "source": [
        "norm_logits = Logits_out.predict(class2_train)\n",
        "norm_logit0 = norm_logits[:,0]\n",
        "norm_logit1 = norm_logits[:,1]\n",
        "\n",
        "plt.scatter(norm_logit0, norm_logit1)\n",
        "plt.xlabel('logits_0')\n",
        "plt.ylabel('logits_1')\n",
        "plt.plot([-12, 12], [12, -12], linestyle='dashed', color='black')\n",
        "plt.plot([-12, 12], [-12, 12], linestyle='dashed', color='black')\n",
        "plt.show"
      ],
      "execution_count": 0,
      "outputs": [
        {
          "output_type": "execute_result",
          "data": {
            "text/plain": [
              "<function matplotlib.pyplot.show>"
            ]
          },
          "metadata": {
            "tags": []
          },
          "execution_count": 105
        },
        {
          "output_type": "display_data",
          "data": {
            "image/png": "[encoded data removed]",
            "text/plain": [
              "<Figure size 432x288 with 1 Axes>"
            ]
          },
          "metadata": {
            "tags": [],
            "needs_background": "light"
          }
        }
      ]
    },
    {
      "cell_type": "code",
      "metadata": {
        "id": "l4dF_d_8ecOr",
        "colab_type": "code",
        "outputId": "dad73669-10ba-4670-9a73-d2eec8fc1fcb",
        "colab": {
          "base_uri": "https://localhost:8080/",
          "height": 297
        }
      },
      "source": [
        "norm_softmax = model.predict(class2_train)\n",
        "norm_soft0 = norm_softmax[:,0]\n",
        "norm_soft1 = norm_softmax[:,1]\n",
        "\n",
        "plt.scatter(norm_soft0, norm_soft1)\n",
        "plt.xlabel('softmax_0')\n",
        "plt.ylabel('softmax_1')\n",
        "plt.plot([0, 1], [0, 1], linestyle='dashed', color='black')\n",
        "plt.plot([0, 1], [1, 0], linestyle='dashed', color='black')\n",
        "plt.show"
      ],
      "execution_count": 0,
      "outputs": [
        {
          "output_type": "execute_result",
          "data": {
            "text/plain": [
              "<function matplotlib.pyplot.show>"
            ]
          },
          "metadata": {
            "tags": []
          },
          "execution_count": 98
        },
        {
          "output_type": "display_data",
          "data": {
            "image/png": "[encoded data removed]",
            "text/plain": [
              "<Figure size 432x288 with 1 Axes>"
            ]
          },
          "metadata": {
            "tags": [],
            "needs_background": "light"
          }
        }
      ]
    },
    {
      "cell_type": "code",
      "metadata": {
        "id": "eVdS6I1mfUIo",
        "colab_type": "code",
        "colab": {}
      },
      "source": [
        "Logits_out_student = tf.keras.models.Model(inputs=student.input,\n",
        "                            outputs=student.layers[-2].output)"
      ],
      "execution_count": 0,
      "outputs": []
    },
    {
      "cell_type": "code",
      "metadata": {
        "id": "zT588VytfUFv",
        "colab_type": "code",
        "outputId": "0045f80c-6157-4be6-c847-f6dda72fb8b1",
        "colab": {
          "base_uri": "https://localhost:8080/",
          "height": 297
        }
      },
      "source": [
        "studnt_logits = Logits_out_student.predict(class2_train)\n",
        "studnt_logit0 = studnt_logits[:,0]\n",
        "studnt_logit1 = studnt_logits[:,1]\n",
        "\n",
        "plt.scatter(studnt_logit0, studnt_logit1)\n",
        "plt.xlabel('logits_0')\n",
        "plt.ylabel('logits_1')\n",
        "plt.plot([-300, 300], [300, -300], linestyle='dashed', color='black')\n",
        "plt.plot([-300, 300], [-300, 300], linestyle='dashed', color='black')\n",
        "plt.show"
      ],
      "execution_count": 0,
      "outputs": [
        {
          "output_type": "execute_result",
          "data": {
            "text/plain": [
              "<function matplotlib.pyplot.show>"
            ]
          },
          "metadata": {
            "tags": []
          },
          "execution_count": 104
        },
        {
          "output_type": "display_data",
          "data": {
            "image/png": "[encoded data removed]",
            "text/plain": [
              "<Figure size 432x288 with 1 Axes>"
            ]
          },
          "metadata": {
            "tags": [],
            "needs_background": "light"
          }
        }
      ]
    },
    {
      "cell_type": "code",
      "metadata": {
        "id": "EdmjIIGIm8t_",
        "colab_type": "code",
        "outputId": "80720508-9ea8-4476-f772-08eecfefaa81",
        "colab": {
          "base_uri": "https://localhost:8080/",
          "height": 297
        }
      },
      "source": [
        "student_softmax = student.predict(class2_train)\n",
        "student_softmax0 = student_softmax[:,0]\n",
        "student_softmax1 = student_softmax[:,1]\n",
        "\n",
        "plt.scatter(student_softmax0, student_softmax1)\n",
        "plt.xlabel('softmax_0')\n",
        "plt.ylabel('softmax_1')\n",
        "plt.plot([0, 1], [0, 1], linestyle='dashed', color='black')\n",
        "plt.plot([0, 1], [1, 0], linestyle='dashed', color='black')\n",
        "plt.show"
      ],
      "execution_count": 0,
      "outputs": [
        {
          "output_type": "execute_result",
          "data": {
            "text/plain": [
              "<function matplotlib.pyplot.show>"
            ]
          },
          "metadata": {
            "tags": []
          },
          "execution_count": 99
        },
        {
          "output_type": "display_data",
          "data": {
            "image/png": "[encoded data removed]",
            "text/plain": [
              "<Figure size 432x288 with 1 Axes>"
            ]
          },
          "metadata": {
            "tags": [],
            "needs_background": "light"
          }
        }
      ]
    }
  ]
}