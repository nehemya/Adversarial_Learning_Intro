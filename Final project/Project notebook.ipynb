{
  "nbformat": 4,
  "nbformat_minor": 0,
  "metadata": {
    "colab": {
      "name": "Project.ipynb",
      "provenance": []
    },
    "kernelspec": {
      "name": "python3",
      "display_name": "Python 3"
    },
    "accelerator": "GPU"
  },
  "cells": [
    {
      "cell_type": "code",
      "metadata": {
        "id": "sLzeg5PktLOJ",
        "colab_type": "code",
        "colab": {
          "base_uri": "https://localhost:8080/",
          "height": 122
        },
        "outputId": "bda423a8-e391-40b0-a4db-f062235e90d3"
      },
      "source": [
        "# imports and drive mount\n",
        "import numpy as np\n",
        "import random\n",
        "import matplotlib.pyplot as plt\n",
        "%tensorflow_version 1.x\n",
        "import tensorflow as tf\n",
        "from tensorflow import keras\n",
        "from tensorflow.keras import layers\n",
        "import math\n",
        "from sklearn.utils import shuffle\n",
        "from google.colab import drive\n",
        "import seaborn as sn\n",
        "from sklearn.metrics import confusion_matrix\n",
        "drive.mount('/content/drive')\n",
        "\n",
        "# Enable inline plotting\n",
        "%matplotlib inline\n",
        "\n",
        "import warnings\n",
        "warnings.filterwarnings(\"ignore\", category=DeprecationWarning)\n",
        "warnings.filterwarnings(\"ignore\", category=FutureWarning)"
      ],
      "execution_count": 2,
      "outputs": [
        {
          "output_type": "stream",
          "text": [
            "Go to this URL in a browser: https://accounts.google.com/o/oauth2/auth?client_id=947318989803-6bn6qk8qdgf4n4g3pfee6491hc0brc4i.apps.googleusercontent.com&redirect_uri=urn%3aietf%3awg%3aoauth%3a2.0%3aoob&response_type=code&scope=email%20https%3a%2f%2fwww.googleapis.com%2fauth%2fdocs.test%20https%3a%2f%2fwww.googleapis.com%2fauth%2fdrive%20https%3a%2f%2fwww.googleapis.com%2fauth%2fdrive.photos.readonly%20https%3a%2f%2fwww.googleapis.com%2fauth%2fpeopleapi.readonly\n",
            "\n",
            "Enter your authorization code:\n",
            "··········\n",
            "Mounted at /content/drive\n"
          ],
          "name": "stdout"
        }
      ]
    },
    {
      "cell_type": "code",
      "metadata": {
        "id": "a3War25ySMLj",
        "colab_type": "code",
        "colab": {
          "base_uri": "https://localhost:8080/",
          "height": 34
        },
        "outputId": "73865380-c9ef-4532-aa69-bd95dae731eb"
      },
      "source": [
        "# imports for keras layers and plot libs\n",
        "from keras.datasets import cifar10\n",
        "from keras.models import load_model\n",
        "from sklearn.metrics import confusion_matrix,accuracy_score,log_loss\n",
        "import seaborn as sns\n",
        "from keras.models import Model, Sequential\n",
        "from keras.datasets import mnist\n",
        "from keras.layers import Dense, Conv2D, Flatten, Input, AvgPool2D,MaxPool2D,Dropout,BatchNormalization,GlobalAveragePooling2D\n",
        "from keras.utils import to_categorical\n",
        "from keras import regularizers\n",
        "from sklearn.model_selection import train_test_split\n",
        "from keras.preprocessing.image import ImageDataGenerator"
      ],
      "execution_count": 3,
      "outputs": [
        {
          "output_type": "stream",
          "text": [
            "Using TensorFlow backend.\n"
          ],
          "name": "stderr"
        }
      ]
    },
    {
      "cell_type": "markdown",
      "metadata": {
        "id": "UQT5ajqcKsyc",
        "colab_type": "text"
      },
      "source": [
        "# UAP setups"
      ]
    },
    {
      "cell_type": "code",
      "metadata": {
        "id": "m_-BoC2Rk1ha",
        "colab_type": "code",
        "colab": {}
      },
      "source": [
        "def untargetedUAP( model, train_set, true_labels,iterations, epsilon, step):\n",
        "  input_shape = train_set.shape[1:]\n",
        " \n",
        "  # Vars\n",
        "  img = tf.placeholder(tf.float32, shape=input_shape)\n",
        "  target = tf.placeholder(tf.float32, (1,true_labels.shape[1]))\n",
        "  global_uap = tf.Variable(np.zeros(input_shape, dtype=np.float32))\n",
        "  perturbation = tf.Variable(np.zeros(input_shape, dtype=np.float32))\n",
        "\n",
        "  # graph\n",
        "  x_adv = img + global_uap + perturbation\n",
        "  x_adv = tf.clip_by_value(x_adv,0,1)\n",
        "  prediction = model(tf.reshape(x_adv, (1,32,32,3)))\n",
        "  loss = keras.losses.categorical_crossentropy(target, prediction)\n",
        "  grad = tf.gradients(loss, perturbation)\n",
        "\n",
        "  # initialization:\n",
        "  old_vars = set(x.name for x in tf.global_variables())\n",
        "  new_vars = [x for x in tf.global_variables() if x.name not in old_vars]\n",
        "  _global_uap = np.zeros(input_shape)\n",
        "  sess.run(tf.initialize_variables([global_uap] + new_vars))\n",
        "  \n",
        "  #running the attack\n",
        "  for epoch in range(10):\n",
        "    EarlyStop = 1\n",
        "    # iterating each sample\n",
        "    for i in range(train_set.shape[0]):\n",
        "      init_new_vars_op = tf.initialize_variables([perturbation])\n",
        "      sess.run(init_new_vars_op)\n",
        "      pred = model.predict((train_set[i] + _global_uap).reshape((1,32,32,3)))\n",
        "      if np.argmax(pred) == np.argmax(true_labels[i]): #need update\n",
        "        for _ in range(iterations):\n",
        "          _grad, _perturbation, _prediction, _loss = sess.run([grad, perturbation, prediction, loss], {img: train_set[i],\n",
        "                                                                                                      target: true_labels[i:i+1]})\n",
        "          perturbation.load((_perturbation + np.sign(_grad)*step).reshape(input_shape),sess)\n",
        "          if np.argmax(_prediction[0]) != np.argmax(true_labels[i]): # update success\n",
        "              _global_uap += _perturbation\n",
        "              _global_uap = L2_projection(_global_uap, epsilon)\n",
        "              global_uap.load(_global_uap, sess)\n",
        "              EarlyStop = 0 \n",
        "              break\n",
        "    _fool_rate, _uap_size = eval_uap(model, train_set, true_labels, _global_uap)\n",
        "    print(f'Epoch: {epoch+1},\\n'\n",
        "          f'Fooling rate: {_fool_rate}, UAP Size: {_uap_size}')          \n",
        "    if EarlyStop:\n",
        "      break\n",
        "\n",
        "  return _global_uap"
      ],
      "execution_count": 4,
      "outputs": []
    },
    {
      "cell_type": "code",
      "metadata": {
        "id": "I4AJUXOCuRr9",
        "colab_type": "code",
        "colab": {}
      },
      "source": [
        "def targetedUAP(model, train_set, target_labels, iterations, epsilon, step):\n",
        "  input_shape = train_set.shape[1:]\n",
        "\n",
        "  img = tf.placeholder(tf.float32, shape=input_shape)\n",
        "  target = tf.placeholder(tf.float32, (1,target_labels.shape[1]))\n",
        "  global_uap = tf.Variable(np.zeros(input_shape, dtype=np.float32))\n",
        "  perturbation = tf.Variable(np.zeros(input_shape, dtype=np.float32))\n",
        "\n",
        "  x_adv = img + global_uap + perturbation\n",
        "  x_adv = tf.clip_by_value(x_adv,0,1)\n",
        "  prediction = model(tf.reshape(x_adv, (1,32,32,3)))\n",
        "  loss = keras.losses.categorical_crossentropy(target, prediction)\n",
        "  grad = tf.gradients(loss, perturbation)\n",
        "\n",
        "  # initialization:\n",
        "  old_vars = set(x.name for x in tf.global_variables())\n",
        "  new_vars = [x for x in tf.global_variables() if x.name not in old_vars]\n",
        "  _global_uap = np.zeros(input_shape)\n",
        "  sess.run(tf.initialize_variables([global_uap] + new_vars))\n",
        "  \n",
        "  #running the attack\n",
        "  train_acc = 0\n",
        "  for epoch in range(1):\n",
        "    if train_acc>0.7:\n",
        "      break\n",
        "    for i in range(train_set.shape[0]):\n",
        "      init_new_vars_op = tf.initialize_variables([perturbation])\n",
        "      sess.run(init_new_vars_op)\n",
        "      pred = model.predict((train_set[i] + _global_uap).reshape((1,32,32,3)))\n",
        "      if np.argmax(pred) != np.argmax(target_labels[i]):\n",
        "        for _ in range(iterations):\n",
        "          _grad, _perturbation, _prediction, _loss = sess.run([grad, perturbation, prediction, loss], {img: train_set[i],\n",
        "                                                                                                      target: target_labels[i:i+1]})\n",
        "          perturbation.load((_perturbation - np.sign(_grad)*step).reshape(input_shape),sess)\n",
        "          if np.argmax(_prediction, axis=-1)[0] == np.argmax(target_labels, axis=-1)[i]:\n",
        "              _global_uap += _perturbation\n",
        "              _global_uap = L2_projection(_global_uap, epsilon)\n",
        "              global_uap.load(_global_uap, sess)\n",
        "              break\n",
        "    _fool_rate, _uap_size = eval_uap(model, train_set, target_labels, _global_uap)\n",
        "    train_acc = 1-_fool_rate\n",
        "    print(f'Epoch: {epoch+1},\\n'\n",
        "          f'Moved into target class: {train_acc},\\n'\n",
        "          f'UAP Size: {_uap_size}')           \n",
        "    \n",
        "\n",
        "  return _global_uap"
      ],
      "execution_count": 5,
      "outputs": []
    },
    {
      "cell_type": "code",
      "metadata": {
        "id": "eXkTyzPRlHyy",
        "colab_type": "code",
        "colab": {}
      },
      "source": [
        "def eval_uap(model, test_img, test_labels, uap):\n",
        "  score = model.evaluate(test_img+uap, test_labels, verbose=0)\n",
        "  L2_uap_size = np.sqrt(np.sum((uap*uap)))\n",
        "  return 1-score[1], L2_uap_size\n",
        "\n",
        "def eval_targeted_uap(model,adv_images,true_labels,target_labels):\n",
        "  score = model.evaluate(adv_images, true_labels, verbose=0)\n",
        "  fooling_rate = (1-score[1])\n",
        "  score = model.evaluate(adv_images, target_labels, verbose=0)\n",
        "  targeted_acc = score[1]\n",
        "  return fooling_rate, targeted_acc\n",
        "  \n",
        "def getPermutation(labels, num_classes):\n",
        "  permutation = np.argmax(labels, axis=-1)\n",
        "  permutation = (permutation + 1) % (num_classes)\n",
        "  return keras.utils.to_categorical(permutation, num_classes)\n",
        "\n",
        "def L2_projection(perturbation, epsilon):\n",
        "  norm = np.sum(np.square(perturbation))\n",
        "  norm = np.sqrt(np.maximum(10e-12, norm))\n",
        "  factor = np.minimum(1, np.divide(epsilon, norm))\n",
        "  return perturbation*factor"
      ],
      "execution_count": 6,
      "outputs": []
    },
    {
      "cell_type": "code",
      "metadata": {
        "id": "8RTZDHHeuRyw",
        "colab_type": "code",
        "colab": {}
      },
      "source": [
        "''' Normalize input to the range of [0..1]\n",
        "    Apart from assisting in the convergance of the training process, this \n",
        "    will also make our lives easier during the adversarial attack process\n",
        "'''\n",
        "def normalize(x_train,x_test):\n",
        "    x_train -= x_train.min()\n",
        "    x_train /= x_train.max()\n",
        "    x_test -= x_test.min()\n",
        "    x_test /= x_test.max()\n",
        "    \n",
        "    return x_train, x_test\n",
        "\n",
        "''' A simple utility funcion for evaluating the success of an attack\n",
        "'''\n",
        "def TestAttack(model, adv_images, orig_images, true_labels, target_labels=None, targeted=False):\n",
        "    score = model.evaluate(adv_images, true_labels, verbose=0)\n",
        "    print('Test loss: {:.2f}'.format(score[0]))\n",
        "    print('Successfully moved out of source class: {:.2f}'.format( 1 - score[1]))\n",
        "    \n",
        "    if targeted:\n",
        "        score = model.evaluate(adv_images, target_labels, verbose=0)\n",
        "        print('Test loss: {:.2f}'.format(score[0]))\n",
        "        print('Successfully perturbed to target class: {:.2f}'.format(score[1]))\n",
        "    \n",
        "    dist = np.mean(np.sqrt(np.mean(np.square(adv_images - orig_images), axis=(1,2,3))))\n",
        "    print('Mean perturbation distance: {:.2f}'.format(dist))\n",
        "    \n",
        "    index = 10\n",
        "    img = adv_images[index].reshape(28, 28)\n",
        "    plt.imshow(img, cmap='gray')\n",
        "    plt.show()"
      ],
      "execution_count": 7,
      "outputs": []
    },
    {
      "cell_type": "code",
      "metadata": {
        "id": "FKCWxBGqJSe9",
        "colab_type": "code",
        "colab": {}
      },
      "source": [
        "def splitByClass(X,Y, nTrain):\n",
        "  img_train, img_val, y_train, y_val =[],[],[],[]\n",
        "  for i in range(10):\n",
        "    labels = np.argmax(Y,axis=-1)\n",
        "    class_img = X[np.where(labels[:]==i)]\n",
        "    class_labels = keras.utils.to_categorical(labels[np.where(labels[:]==i)],10)\n",
        "    img_train.append(class_img[:nTrain])\n",
        "    img_val.append(class_img[nTrain:])\n",
        "    y_train.append(class_labels[:nTrain])\n",
        "    y_val.append(class_labels[nTrain:])\n",
        "  return img_train,img_val,y_train,y_val\n",
        "\n",
        "\n"
      ],
      "execution_count": 8,
      "outputs": []
    },
    {
      "cell_type": "code",
      "metadata": {
        "id": "SGjQ1lpLo_NR",
        "colab_type": "code",
        "colab": {}
      },
      "source": [
        "def getEvalData(x,y,toRemove):\n",
        "  res_x, res_y = [],[]\n",
        "  for i in range(x.shape[0]):\n",
        "    if y[i]!=toRemove:\n",
        "      res_x.append(x[i])\n",
        "      res_y.append(y[i])\n",
        "  return np.array(res_x,dtype=np.float32), np.array(res_y,dtype=np.float32)"
      ],
      "execution_count": 23,
      "outputs": []
    },
    {
      "cell_type": "code",
      "metadata": {
        "id": "kf2oc9LHcJ1o",
        "colab_type": "code",
        "colab": {}
      },
      "source": [
        "def plot_multiple_imgs(X,y,nrow=2,ncol=2,figsize=(13,7),preds=None,skip=0):\n",
        "    fig,ax = plt.subplots(nrows=nrow,ncols=ncol,figsize=figsize)\n",
        "    fig.subplots_adjust(hspace=0.1, wspace=0.1)\n",
        "    for i in range(nrow*ncol):\n",
        "        ax[i//ncol,i%ncol].imshow(X[skip+i],cmap='binary')\n",
        "        ax[i//ncol,i%ncol].set_xticks([])\n",
        "        ax[i//ncol,i%ncol].set_yticks([])\n",
        "        if preds is not None:\n",
        "            ax[i//ncol,i%ncol].text(0.85, 0.1, str(preds[skip+i]), transform=ax[i//ncol,i%ncol].transAxes,\n",
        "                                   color='green' if y[skip+i]==preds[skip+i] else 'red',weight='bold')\n",
        "            ax[i//ncol,i%ncol].text(0.05, 0.1, str(y[skip+i]), color='blue',transform=ax[i//ncol,i%ncol].transAxes,weight='bold')\n",
        "        else:\n",
        "            ax[i//ncol,i%ncol].text(0.05, 0.1, str(y[skip+i]), color='blue',transform=ax[i//ncol,i%ncol].transAxes,weight='bold')\n",
        "    plt.show()"
      ],
      "execution_count": 9,
      "outputs": []
    },
    {
      "cell_type": "code",
      "metadata": {
        "id": "PerP49x4fnbT",
        "colab_type": "code",
        "colab": {}
      },
      "source": [
        "def targetedUAP2(model, train_set, target_labels,batch_size, iterations, epsilon, step):\n",
        "  input_shape = (batch_size,32,32,3)\n",
        "\n",
        "  batch_img = tf.placeholder(tf.float32, shape=input_shape)\n",
        "  target = tf.placeholder(tf.float32, (batch_size,10))\n",
        "  global_uap = tf.Variable(np.zeros((1,32,32,3), dtype=np.float32))\n",
        "  perturbation = tf.Variable(np.zeros((1,32,32,3), dtype=np.float32))\n",
        "\n",
        "  x_adv = batch_img + (global_uap + perturbation)\n",
        "  x_adv = tf.clip_by_value(x_adv,0,1)\n",
        "  prediction = model(x_adv)\n",
        "  loss = keras.losses.categorical_crossentropy(target, prediction)\n",
        "  grad = tf.gradients(loss, perturbation)\n",
        "\n",
        "  # initialization:\n",
        "  old_vars = set(x.name for x in tf.global_variables())\n",
        "  new_vars = [x for x in tf.global_variables() if x.name not in old_vars]\n",
        "  _global_uap = np.zeros((1,32,32,3))\n",
        "  sess.run(tf.initialize_variables([global_uap] + new_vars))\n",
        "  \n",
        "  #running the attack\n",
        "  train_acc = 0\n",
        "  for epoch in range(5):\n",
        "    if train_acc>0.95:\n",
        "      break\n",
        "    for i in range(int(train_set.shape[0]/batch_size)-2):\n",
        "      start = i*batch_size\n",
        "      batch = train_set[start:start+batch_size,:,:,:]\n",
        "      batch_labels = target_labels[start:start+batch_size,:]\n",
        "      init_new_vars_op = tf.initialize_variables([perturbation])\n",
        "      sess.run(init_new_vars_op)\n",
        "      for _ in range(iterations):\n",
        "        _grad, _perturbation, _prediction, _loss = sess.run([grad, perturbation, prediction, loss], {batch_img: batch,\n",
        "                                                                                                    target: batch_labels})\n",
        "        perturbation.load((_perturbation - np.sign(_grad)*step).reshape((1,32,32,3)),sess)\n",
        "      # update global uap\n",
        "      _global_uap += _perturbation\n",
        "      _global_uap = L2_projection(_global_uap, epsilon)\n",
        "      global_uap.load(_global_uap, sess)\n",
        "            \n",
        "    _fool_rate, _uap_size = eval_uap(model, train_set, target_labels, _global_uap)\n",
        "    train_acc = 1-_fool_rate\n",
        "    print(f'Epoch: {epoch+1},\\n'\n",
        "          f'Moved into target class: {train_acc},\\n'\n",
        "          f'UAP Size: {_uap_size}')           \n",
        "    \n",
        "\n",
        "  return _global_uap"
      ],
      "execution_count": 10,
      "outputs": []
    },
    {
      "cell_type": "markdown",
      "metadata": {
        "id": "aQ39ekP4rrn0",
        "colab_type": "text"
      },
      "source": [
        "# Setup for CIFAR 10 dataset and model\n"
      ]
    },
    {
      "cell_type": "markdown",
      "metadata": {
        "id": "FQvVt4nQyYma",
        "colab_type": "text"
      },
      "source": [
        "## build and train CNN model"
      ]
    },
    {
      "cell_type": "code",
      "metadata": {
        "id": "1mQWPCNE3iJd",
        "colab_type": "code",
        "colab": {
          "base_uri": "https://localhost:8080/",
          "height": 51
        },
        "outputId": "5f2b414d-b23d-4889-bdc0-858ab0a97a8e"
      },
      "source": [
        "np.random.seed(0)\n",
        "\n",
        "(x_train, y_train), (x_test, y_test) = cifar10.load_data()\n",
        "img_rows, img_cols, img_colors = 32, 32, 3\n",
        "x_train = x_train.astype('float32')\n",
        "x_test = x_test.astype('float32')\n",
        "x_train = x_train.reshape(x_train.shape[0], img_rows, img_cols, img_colors)\n",
        "x_test = x_test.reshape(x_test.shape[0], img_rows, img_cols, img_colors)\n",
        "x_train, x_test = normalize(x_train, x_test)\n",
        "    "
      ],
      "execution_count": 12,
      "outputs": [
        {
          "output_type": "stream",
          "text": [
            "Downloading data from https://www.cs.toronto.edu/~kriz/cifar-10-python.tar.gz\n",
            "170500096/170498071 [==============================] - 6s 0us/step\n"
          ],
          "name": "stdout"
        }
      ]
    },
    {
      "cell_type": "code",
      "metadata": {
        "id": "nayc4g_4rotp",
        "colab_type": "code",
        "colab": {}
      },
      "source": [
        "# upgrade 2  aug + batch normalization\n",
        "dataAug = ImageDataGenerator(\n",
        "    rotation_range=15,\n",
        "    width_shift_range=0.1,\n",
        "    height_shift_range=0.1,\n",
        "    horizontal_flip=True\n",
        "    )\n",
        "dataAug.fit(x_train)\n",
        "\n",
        "def build_cifar_model():\n",
        "    model = Sequential()\n",
        "    model.add(Conv2D(32,(3,3),activation='relu',padding='same',input_shape=(32,32,3)))\n",
        "    model.add(BatchNormalization())\n",
        "    model.add(Conv2D(32,(3,3),activation='relu',padding='same'))\n",
        "    model.add(BatchNormalization())\n",
        "    model.add(MaxPool2D())\n",
        "\n",
        "    model.add(Conv2D(64,(3,3),activation='relu',padding='same'))\n",
        "    model.add(BatchNormalization())\n",
        "    model.add(Conv2D(64,(3,3),activation='relu',padding='same'))\n",
        "    model.add(BatchNormalization())\n",
        "    model.add(MaxPool2D())\n",
        "\n",
        "    model.add(Conv2D(128,(3,3),activation='relu',padding='same'))\n",
        "    model.add(BatchNormalization())\n",
        "    model.add(Conv2D(128,(3,3),activation='relu',padding='same'))\n",
        "    model.add(BatchNormalization())\n",
        "    model.add(MaxPool2D())\n",
        "\n",
        "    model.add(Flatten())\n",
        "    model.add(Dense(10,activation='softmax'))\n",
        "    model.compile(loss='categorical_crossentropy',optimizer='adam',metrics=['accuracy'])\n",
        "    model.summary()\n",
        "    return model\n",
        "\n",
        "model = build_cifar_model()\n",
        "history = model.fit_generator(dataAug.flow(x_train, to_categorical(y_train), batch_size=32,shuffle = True),\n",
        "                    steps_per_epoch=len(x_train) / 32, epochs=30, validation_data = ( x_test, to_categorical(y_test) ))\n"
      ],
      "execution_count": null,
      "outputs": []
    },
    {
      "cell_type": "code",
      "metadata": {
        "id": "gL2zdqV2tXWF",
        "colab_type": "code",
        "colab": {}
      },
      "source": [
        "model.save('/content/drive/My Drive/Colab Notebooks/Adversarial - Ziv Katzir/model.h5')\n",
        "print(\"Saved model to disk\")"
      ],
      "execution_count": null,
      "outputs": []
    },
    {
      "cell_type": "markdown",
      "metadata": {
        "id": "QrzHM3lOzSCz",
        "colab_type": "text"
      },
      "source": [
        "## Experiment 1 \n",
        "testing our targeted UAP variant:\n",
        "1.   creating TUAP for each class\n",
        "2.   visuelize its fooling effect\n",
        "\n",
        "\n"
      ]
    },
    {
      "cell_type": "code",
      "metadata": {
        "id": "4mZnartIyP3h",
        "colab_type": "code",
        "colab": {
          "base_uri": "https://localhost:8080/",
          "height": 870
        },
        "outputId": "65a58b40-d384-47fe-fdbf-b3e3e8d0d472"
      },
      "source": [
        "# Load the pre traind cnn model\n",
        "\n",
        "sess = tf.Session()\n",
        "keras.backend.set_session(sess)\n",
        "init = tf.global_variables_initializer()\n",
        "sess.run(init)\n",
        "# load model\n",
        "model = load_model('/content/drive/My Drive/Colab Notebooks/Adversarial - Ziv Katzir/model.h5')\n",
        "# summarize model.\n",
        "model.summary()"
      ],
      "execution_count": 13,
      "outputs": [
        {
          "output_type": "stream",
          "text": [
            "WARNING:tensorflow:From /tensorflow-1.15.2/python3.6/tensorflow_core/python/ops/resource_variable_ops.py:1630: calling BaseResourceVariable.__init__ (from tensorflow.python.ops.resource_variable_ops) with constraint is deprecated and will be removed in a future version.\n",
            "Instructions for updating:\n",
            "If using Keras pass *_constraint arguments to layers.\n",
            "WARNING:tensorflow:From /usr/local/lib/python3.6/dist-packages/keras/backend/tensorflow_backend.py:4070: The name tf.nn.max_pool is deprecated. Please use tf.nn.max_pool2d instead.\n",
            "\n",
            "WARNING:tensorflow:From /usr/local/lib/python3.6/dist-packages/keras/backend/tensorflow_backend.py:422: The name tf.global_variables is deprecated. Please use tf.compat.v1.global_variables instead.\n",
            "\n",
            "Model: \"sequential_1\"\n",
            "_________________________________________________________________\n",
            "Layer (type)                 Output Shape              Param #   \n",
            "=================================================================\n",
            "conv2d_1 (Conv2D)            (None, 32, 32, 32)        896       \n",
            "_________________________________________________________________\n",
            "batch_normalization_1 (Batch (None, 32, 32, 32)        128       \n",
            "_________________________________________________________________\n",
            "conv2d_2 (Conv2D)            (None, 32, 32, 32)        9248      \n",
            "_________________________________________________________________\n",
            "batch_normalization_2 (Batch (None, 32, 32, 32)        128       \n",
            "_________________________________________________________________\n",
            "max_pooling2d_1 (MaxPooling2 (None, 16, 16, 32)        0         \n",
            "_________________________________________________________________\n",
            "conv2d_3 (Conv2D)            (None, 16, 16, 64)        18496     \n",
            "_________________________________________________________________\n",
            "batch_normalization_3 (Batch (None, 16, 16, 64)        256       \n",
            "_________________________________________________________________\n",
            "conv2d_4 (Conv2D)            (None, 16, 16, 64)        36928     \n",
            "_________________________________________________________________\n",
            "batch_normalization_4 (Batch (None, 16, 16, 64)        256       \n",
            "_________________________________________________________________\n",
            "max_pooling2d_2 (MaxPooling2 (None, 8, 8, 64)          0         \n",
            "_________________________________________________________________\n",
            "conv2d_5 (Conv2D)            (None, 8, 8, 128)         73856     \n",
            "_________________________________________________________________\n",
            "batch_normalization_5 (Batch (None, 8, 8, 128)         512       \n",
            "_________________________________________________________________\n",
            "conv2d_6 (Conv2D)            (None, 8, 8, 128)         147584    \n",
            "_________________________________________________________________\n",
            "batch_normalization_6 (Batch (None, 8, 8, 128)         512       \n",
            "_________________________________________________________________\n",
            "max_pooling2d_3 (MaxPooling2 (None, 4, 4, 128)         0         \n",
            "_________________________________________________________________\n",
            "flatten_1 (Flatten)          (None, 2048)              0         \n",
            "_________________________________________________________________\n",
            "dense_1 (Dense)              (None, 10)                20490     \n",
            "=================================================================\n",
            "Total params: 309,290\n",
            "Trainable params: 308,394\n",
            "Non-trainable params: 896\n",
            "_________________________________________________________________\n"
          ],
          "name": "stdout"
        }
      ]
    },
    {
      "cell_type": "code",
      "metadata": {
        "id": "g-rC-0OaD9sF",
        "colab_type": "code",
        "colab": {
          "base_uri": "https://localhost:8080/",
          "height": 51
        },
        "outputId": "3b860227-3071-4867-acd3-234131e4cefc"
      },
      "source": [
        "# the model obtain 83% accuracy on the test set\n",
        "model.evaluate(x_test, to_categorical(y_test))"
      ],
      "execution_count": null,
      "outputs": [
        {
          "output_type": "stream",
          "text": [
            "10000/10000 [==============================] - 7s 725us/step\n"
          ],
          "name": "stdout"
        },
        {
          "output_type": "execute_result",
          "data": {
            "text/plain": [
              "[0.5403337975978851, 0.8335000276565552]"
            ]
          },
          "metadata": {
            "tags": []
          },
          "execution_count": 11
        }
      ]
    },
    {
      "cell_type": "markdown",
      "metadata": {
        "id": "1iPf1TAWBG4B",
        "colab_type": "text"
      },
      "source": [
        "now we create targeted uap for each potential class "
      ]
    },
    {
      "cell_type": "code",
      "metadata": {
        "id": "Em_rV0IorOea",
        "colab_type": "code",
        "colab": {}
      },
      "source": [
        "# split the dataset to 10 classes to later compose our train set X for the TUAP\n",
        "train_size = 100\n",
        "img_train,img_val,y_tr,y_val = splitByClass(x_train,to_categorical(y_train, 10),train_size)"
      ],
      "execution_count": 15,
      "outputs": []
    },
    {
      "cell_type": "markdown",
      "metadata": {
        "id": "yDlHItbc1T02",
        "colab_type": "text"
      },
      "source": [
        "we compose our train set X with 20 images from each class, 200 images overall.\n",
        "Then we use our attack to create TUAP for each target class."
      ]
    },
    {
      "cell_type": "code",
      "metadata": {
        "id": "4Te1om67zYXR",
        "colab_type": "code",
        "colab": {
          "base_uri": "https://localhost:8080/",
          "height": 1000
        },
        "outputId": "e53b0bdc-0c0e-4e0f-ac42-a6b89ef70329"
      },
      "source": [
        "train_set = np.concatenate([img_train[i][:20] for i in range(10)])\n",
        "batch_size = 32\n",
        "uaps = []\n",
        "for i in range(10):\n",
        "  print(f'target: {i}')\n",
        "  mal_target = np.zeros(train_set.shape[0])\n",
        "  mal_target[:] = i\n",
        "  mal_target = keras.utils.to_categorical(mal_target, 10)\n",
        "  uaps.append(targetedUAP2(model, train_set, mal_target,batch_size, iterations=10, epsilon=1.6, step=0.006))"
      ],
      "execution_count": null,
      "outputs": [
        {
          "output_type": "stream",
          "text": [
            "target: 0\n",
            "WARNING:tensorflow:From /tensorflow-1.15.2/python3.6/tensorflow_core/python/ops/math_grad.py:1424: where (from tensorflow.python.ops.array_ops) is deprecated and will be removed in a future version.\n",
            "Instructions for updating:\n",
            "Use tf.where in 2.0, which has the same broadcast rule as np.where\n",
            "WARNING:tensorflow:From /tensorflow-1.15.2/python3.6/tensorflow_core/python/util/tf_should_use.py:198: initialize_variables (from tensorflow.python.ops.variables) is deprecated and will be removed after 2017-03-02.\n",
            "Instructions for updating:\n",
            "Use `tf.variables_initializer` instead.\n",
            "WARNING:tensorflow:From <ipython-input-12-2d0c282e8757>:35: Variable.load (from tensorflow.python.ops.variables) is deprecated and will be removed in a future version.\n",
            "Instructions for updating:\n",
            "Prefer Variable.assign which has equivalent behavior in 2.X.\n",
            "WARNING:tensorflow:From /usr/local/lib/python3.6/dist-packages/keras/backend/tensorflow_backend.py:431: The name tf.is_variable_initialized is deprecated. Please use tf.compat.v1.is_variable_initialized instead.\n",
            "\n",
            "Epoch: 1,\n",
            "Moved into target class: 0.6800000071525574,\n",
            "UAP Size: 1.6\n",
            "Epoch: 2,\n",
            "Moved into target class: 0.7400000095367432,\n",
            "UAP Size: 1.6\n",
            "target: 1\n",
            "Epoch: 1,\n",
            "Moved into target class: 0.6150000095367432,\n",
            "UAP Size: 1.6\n",
            "Epoch: 2,\n",
            "Moved into target class: 0.7049999833106995,\n",
            "UAP Size: 1.6\n",
            "target: 2\n",
            "Epoch: 1,\n",
            "Moved into target class: 0.7099999785423279,\n",
            "UAP Size: 1.5999999999999999\n",
            "target: 3\n",
            "Epoch: 1,\n",
            "Moved into target class: 0.42500001192092896,\n",
            "UAP Size: 1.6\n",
            "Epoch: 2,\n",
            "Moved into target class: 0.5649999976158142,\n",
            "UAP Size: 1.5999999999999999\n",
            "Epoch: 3,\n",
            "Moved into target class: 0.6050000190734863,\n",
            "UAP Size: 1.6\n",
            "Epoch: 4,\n",
            "Moved into target class: 0.6050000190734863,\n",
            "UAP Size: 1.6\n",
            "Epoch: 5,\n",
            "Moved into target class: 0.5950000286102295,\n",
            "UAP Size: 1.6\n",
            "target: 4\n",
            "Epoch: 1,\n",
            "Moved into target class: 0.7250000238418579,\n",
            "UAP Size: 1.6000000000000005\n",
            "target: 5\n",
            "Epoch: 1,\n",
            "Moved into target class: 0.25999999046325684,\n",
            "UAP Size: 1.5999999999999999\n",
            "Epoch: 2,\n",
            "Moved into target class: 0.3799999952316284,\n",
            "UAP Size: 1.6\n",
            "Epoch: 3,\n",
            "Moved into target class: 0.41499999165534973,\n",
            "UAP Size: 1.6000000000000003\n",
            "Epoch: 4,\n",
            "Moved into target class: 0.42500001192092896,\n",
            "UAP Size: 1.6\n",
            "Epoch: 5,\n",
            "Moved into target class: 0.41499999165534973,\n",
            "UAP Size: 1.5999999999999999\n",
            "target: 6\n",
            "Epoch: 1,\n",
            "Moved into target class: 0.7799999713897705,\n",
            "UAP Size: 1.5999999999999996\n",
            "target: 7\n",
            "Epoch: 1,\n",
            "Moved into target class: 0.5,\n",
            "UAP Size: 1.6\n",
            "Epoch: 2,\n",
            "Moved into target class: 0.5799999833106995,\n",
            "UAP Size: 1.6000000000000003\n",
            "Epoch: 3,\n",
            "Moved into target class: 0.5899999737739563,\n",
            "UAP Size: 1.6\n",
            "Epoch: 4,\n",
            "Moved into target class: 0.6150000095367432,\n",
            "UAP Size: 1.6\n",
            "Epoch: 5,\n",
            "Moved into target class: 0.6299999952316284,\n",
            "UAP Size: 1.6\n",
            "target: 8\n",
            "Epoch: 1,\n",
            "Moved into target class: 0.6499999761581421,\n",
            "UAP Size: 1.6\n",
            "Epoch: 2,\n",
            "Moved into target class: 0.7250000238418579,\n",
            "UAP Size: 1.6\n",
            "target: 9\n",
            "Epoch: 1,\n",
            "Moved into target class: 0.6399999856948853,\n",
            "UAP Size: 1.5999999999999999\n",
            "Epoch: 2,\n",
            "Moved into target class: 0.7250000238418579,\n",
            "UAP Size: 1.6\n"
          ],
          "name": "stdout"
        }
      ]
    },
    {
      "cell_type": "code",
      "metadata": {
        "id": "kg0_j_ZmQHYU",
        "colab_type": "code",
        "colab": {}
      },
      "source": [
        "#save the resulted TUAPs for later use\n",
        "np.save('/content/drive/My Drive/Colab Notebooks/Adversarial - Ziv Katzir/UAPs_10.npy', uaps)"
      ],
      "execution_count": null,
      "outputs": []
    },
    {
      "cell_type": "code",
      "metadata": {
        "id": "O6noGQNwCzZQ",
        "colab_type": "code",
        "colab": {}
      },
      "source": [
        "uaps = np.load('/content/drive/My Drive/Colab Notebooks/Adversarial - Ziv Katzir/UAPs_10.npy')"
      ],
      "execution_count": 16,
      "outputs": []
    },
    {
      "cell_type": "code",
      "metadata": {
        "id": "8QIjO_UIO5Nh",
        "colab_type": "code",
        "colab": {}
      },
      "source": [
        "uaps = np.reshape(uaps,(10,32,32,3))"
      ],
      "execution_count": 19,
      "outputs": []
    },
    {
      "cell_type": "code",
      "metadata": {
        "id": "EJBdKNd72s2p",
        "colab_type": "code",
        "colab": {}
      },
      "source": [
        "# evaluate each TUAP for fooling rate in different magnitudes\n",
        "eval_dict = []\n",
        "for i in range(10):\n",
        "  for j in range(11):\n",
        "    mal_target = np.zeros(y_test.shape[0])\n",
        "    mal_target[:] = i\n",
        "    mal_target = keras.utils.to_categorical(mal_target, 10)\n",
        "    eval_dict.append(eval_targeted_uap(model,x_test+(uaps[i]*j/10),to_categorical(y_test, 10), mal_target))"
      ],
      "execution_count": 26,
      "outputs": []
    },
    {
      "cell_type": "code",
      "metadata": {
        "id": "BvmkmXlP2sxf",
        "colab_type": "code",
        "colab": {
          "base_uri": "https://localhost:8080/",
          "height": 312
        },
        "outputId": "4c0f54dd-1880-4b51-dd79-21260c2069e0"
      },
      "source": [
        "classes = ['airplane', 'automobile', 'bird', 'cat', 'deer', 'dog', 'frog', 'horse', 'ship', 'truck']\n",
        "\n",
        "# Add title and axis names\n",
        "plt.title('Targeted UAPs')\n",
        "plt.xlabel('UAP size')\n",
        "plt.ylabel('untargeted fooling rate')\n",
        "plt.ylim(0,1)\n",
        "\n",
        "xrange = [float(f'{1.6*i/10:.2f}') for i in range(11)]\n",
        "\n",
        "#ploting the graphs\n",
        "for i in range(10):\n",
        "  line = [item[0] for item in eval_dict[i*11:i*11+11]]\n",
        "  plt.plot(line, label = classes[i])\n",
        "  plt.xticks(np.arange(len(xrange)), xrange)\n",
        "plt.legend(bbox_to_anchor=(1, 0.9), shadow=True, fancybox=True)\n",
        "plt.show"
      ],
      "execution_count": 57,
      "outputs": [
        {
          "output_type": "execute_result",
          "data": {
            "text/plain": [
              "<function matplotlib.pyplot.show>"
            ]
          },
          "metadata": {
            "tags": []
          },
          "execution_count": 57
        },
        {
          "output_type": "display_data",
          "data": {
            "image/png": "[encoded data removed]",
            "text/plain": [
              "<Figure size 432x288 with 1 Axes>"
            ]
          },
          "metadata": {
            "tags": [],
            "needs_background": "light"
          }
        }
      ]
    },
    {
      "cell_type": "code",
      "metadata": {
        "id": "zR6oKj9f2svp",
        "colab_type": "code",
        "colab": {
          "base_uri": "https://localhost:8080/",
          "height": 312
        },
        "outputId": "f108bf2e-bb0f-406d-98c5-ef46ce185bb0"
      },
      "source": [
        "# Add title and axis names\n",
        "plt.title('Targeted UAPs')\n",
        "plt.xlabel('UAP size')\n",
        "plt.ylabel('targeted fooling rate')\n",
        "plt.ylim(0,1)\n",
        "\n",
        "xrange = [float(f'{1.6*i/10:.2f}') for i in range(11)]\n",
        "\n",
        "#ploting the graphs\n",
        "for i in range(10):\n",
        "  line = [item[1] for item in eval_dict[i*11:i*11+11]]\n",
        "  plt.plot(line, label = classes[i])\n",
        "  plt.xticks(np.arange(len(xrange)), xrange)\n",
        "plt.legend(bbox_to_anchor=(1, 0.9), shadow=True, fancybox=True)\n",
        "plt.show"
      ],
      "execution_count": 58,
      "outputs": [
        {
          "output_type": "execute_result",
          "data": {
            "text/plain": [
              "<function matplotlib.pyplot.show>"
            ]
          },
          "metadata": {
            "tags": []
          },
          "execution_count": 58
        },
        {
          "output_type": "display_data",
          "data": {
            "image/png": "[encoded data removed]",
            "text/plain": [
              "<Figure size 432x288 with 1 Axes>"
            ]
          },
          "metadata": {
            "tags": [],
            "needs_background": "light"
          }
        }
      ]
    },
    {
      "cell_type": "code",
      "metadata": {
        "id": "5XSWFw2Q2sr_",
        "colab_type": "code",
        "colab": {}
      },
      "source": [
        ""
      ],
      "execution_count": null,
      "outputs": []
    },
    {
      "cell_type": "markdown",
      "metadata": {
        "id": "MhvVH-9Gsae_",
        "colab_type": "text"
      },
      "source": [
        "## Experiment 2\n",
        "specific source-target attack.\n",
        "\n",
        "our general porpose of this experiment is to combine 2 different TUAPs and to analyze the effect of 3 different combining methods.\n",
        "\n",
        "---\n",
        "\n",
        "\n",
        "\n",
        "*   we create 2 TUAPs: \n",
        "  1. will take deer class into horse class\n",
        "  2. will take bird class into airplane class\n",
        "\n",
        "*   we evaluate the resulted TUAPs  \n",
        "\n",
        "*   we use 3 different combining methods:\n",
        "  1. grid mask that splits the input space\n",
        "  2. one TUAP will get the top half and the other will get the bottom half\n",
        "  3. combining by using new gradient attack that combines both constrains\n",
        "\n",
        "\n",
        "*   we evaluate and compre the 3 methods\n",
        "\n",
        "\n",
        "*   we visuelize the effect with conffusion matrix\n",
        "\n"
      ]
    },
    {
      "cell_type": "code",
      "metadata": {
        "id": "-R6k3ujpsZ24",
        "colab_type": "code",
        "colab": {
          "base_uri": "https://localhost:8080/",
          "height": 459
        },
        "outputId": "e3bd750a-035e-4d9a-c597-84fc20b72523"
      },
      "source": [
        "# now we create a specific source-target attack that sends only deer->horse\n",
        "train_set_x = img_val[4][:200]\n",
        "train_labels = y_val[4][:200]\n",
        "train_labels = np.argmax(train_labels,axis=-1)\n",
        "#turn class 4 to 7\n",
        "train_labels = np.where(train_labels==4,7,train_labels)\n",
        "\n",
        "train_set_x,train_labels = shuffle(train_set_x,train_labels)\n",
        "batch_size = 32\n",
        "TUAP_47 = targetedUAP2(model, train_set_x, to_categorical(train_labels, 10),batch_size, iterations=10, epsilon=1.6, step=0.006)\n"
      ],
      "execution_count": 16,
      "outputs": [
        {
          "output_type": "stream",
          "text": [
            "WARNING:tensorflow:From /tensorflow-1.15.2/python3.6/tensorflow_core/python/ops/math_grad.py:1424: where (from tensorflow.python.ops.array_ops) is deprecated and will be removed in a future version.\n",
            "Instructions for updating:\n",
            "Use tf.where in 2.0, which has the same broadcast rule as np.where\n",
            "WARNING:tensorflow:From /tensorflow-1.15.2/python3.6/tensorflow_core/python/util/tf_should_use.py:198: initialize_variables (from tensorflow.python.ops.variables) is deprecated and will be removed after 2017-03-02.\n",
            "Instructions for updating:\n",
            "Use `tf.variables_initializer` instead.\n",
            "WARNING:tensorflow:From <ipython-input-10-65459a4670b4>:35: Variable.load (from tensorflow.python.ops.variables) is deprecated and will be removed in a future version.\n",
            "Instructions for updating:\n",
            "Prefer Variable.assign which has equivalent behavior in 2.X.\n",
            "WARNING:tensorflow:From /usr/local/lib/python3.6/dist-packages/keras/backend/tensorflow_backend.py:431: The name tf.is_variable_initialized is deprecated. Please use tf.compat.v1.is_variable_initialized instead.\n",
            "\n",
            "Epoch: 1,\n",
            "Moved into target class: 0.8100000023841858,\n",
            "UAP Size: 1.5999999999999999\n",
            "Epoch: 2,\n",
            "Moved into target class: 0.8199999928474426,\n",
            "UAP Size: 1.6\n",
            "Epoch: 3,\n",
            "Moved into target class: 0.8450000286102295,\n",
            "UAP Size: 1.6\n",
            "Epoch: 4,\n",
            "Moved into target class: 0.8299999833106995,\n",
            "UAP Size: 1.6\n",
            "Epoch: 5,\n",
            "Moved into target class: 0.8199999928474426,\n",
            "UAP Size: 1.6\n"
          ],
          "name": "stdout"
        }
      ]
    },
    {
      "cell_type": "code",
      "metadata": {
        "id": "NsO5vz7t2snJ",
        "colab_type": "code",
        "colab": {
          "base_uri": "https://localhost:8080/",
          "height": 34
        },
        "outputId": "74df4fcc-16c2-4598-b5f9-788b694ca913"
      },
      "source": [
        "mal_target = np.zeros(y_val[4].shape[0])\n",
        "mal_target[:] = 7\n",
        "mal_target = keras.utils.to_categorical(mal_target, 10)\n",
        "uFR, tFR = eval_targeted_uap(model,img_val[4]+TUAP_47,y_val[4],mal_target)\n",
        "print(f'results for TUAP 4->7 specific class: untargeted FR = {uFR}, targeted FR = {tFR}')"
      ],
      "execution_count": 20,
      "outputs": [
        {
          "output_type": "stream",
          "text": [
            "results for TUAP 4->7 specific class: untargeted FR = 0.8751020431518555, targeted FR = 0.7659183740615845\n"
          ],
          "name": "stdout"
        }
      ]
    },
    {
      "cell_type": "code",
      "metadata": {
        "id": "7chAXIfV2spO",
        "colab_type": "code",
        "colab": {
          "base_uri": "https://localhost:8080/",
          "height": 34
        },
        "outputId": "264e1c1c-3c7e-40ca-fd49-c8192bf3a70a"
      },
      "source": [
        "rest_img, rest_label = getEvalData(x_test,y_test,4)\n",
        "mal_target = np.zeros(rest_label.shape[0])\n",
        "mal_target[:] = 7\n",
        "mal_target = keras.utils.to_categorical(mal_target, 10)\n",
        "uFR, tFR = eval_targeted_uap(model,rest_img+TUAP_47,to_categorical(rest_label,10),mal_target)\n",
        "print(f'results for TUAP 4->7 leak effect: untargeted FR = {uFR}')"
      ],
      "execution_count": 28,
      "outputs": [
        {
          "output_type": "stream",
          "text": [
            "results for TUAP 4->7 leak effect: untargeted FR = 0.5247777700424194\n"
          ],
          "name": "stdout"
        }
      ]
    },
    {
      "cell_type": "code",
      "metadata": {
        "id": "bWG6d10LsRD3",
        "colab_type": "code",
        "colab": {
          "base_uri": "https://localhost:8080/",
          "height": 272
        },
        "outputId": "1ecae174-3bd3-4519-ff3a-972e44364d2a"
      },
      "source": [
        "# now we create a specific source-target attack that sends only bird->airplane\n",
        "train_set_x = img_val[2][:200]\n",
        "train_labels = y_val[2][:200]\n",
        "train_labels = np.argmax(train_labels,axis=-1)\n",
        "#turn class 2 to 0\n",
        "train_labels = np.where(train_labels==2,0,train_labels)\n",
        "\n",
        "train_set_x,train_labels = shuffle(train_set_x,train_labels)\n",
        "batch_size = 32\n",
        "TUAP_20 = targetedUAP2(model, train_set_x, to_categorical(train_labels, 10),batch_size, iterations=10, epsilon=1.6, step=0.006)\n"
      ],
      "execution_count": 29,
      "outputs": [
        {
          "output_type": "stream",
          "text": [
            "Epoch: 1,\n",
            "Moved into target class: 0.8849999904632568,\n",
            "UAP Size: 1.6\n",
            "Epoch: 2,\n",
            "Moved into target class: 0.9200000166893005,\n",
            "UAP Size: 1.5999999999999999\n",
            "Epoch: 3,\n",
            "Moved into target class: 0.9300000071525574,\n",
            "UAP Size: 1.6\n",
            "Epoch: 4,\n",
            "Moved into target class: 0.9300000071525574,\n",
            "UAP Size: 1.6\n",
            "Epoch: 5,\n",
            "Moved into target class: 0.9150000214576721,\n",
            "UAP Size: 1.6\n"
          ],
          "name": "stdout"
        }
      ]
    },
    {
      "cell_type": "code",
      "metadata": {
        "id": "updNyFbZsRBa",
        "colab_type": "code",
        "colab": {
          "base_uri": "https://localhost:8080/",
          "height": 34
        },
        "outputId": "d933d419-8aa1-4bb0-cab5-49b33cfb7eda"
      },
      "source": [
        "mal_target = np.zeros(y_val[2].shape[0])\n",
        "mal_target[:] = 0\n",
        "mal_target = keras.utils.to_categorical(mal_target, 10)\n",
        "uFR, tFR = eval_targeted_uap(model,img_val[2]+TUAP_20,y_val[2],mal_target)\n",
        "print(f'results for TUAP 2->0 specific class: untargeted FR = {uFR}, targeted FR = {tFR}')"
      ],
      "execution_count": 33,
      "outputs": [
        {
          "output_type": "stream",
          "text": [
            "results for TUAP 2->0 specific class: untargeted FR = 0.9177551046013832, targeted FR = 0.8706122636795044\n"
          ],
          "name": "stdout"
        }
      ]
    },
    {
      "cell_type": "code",
      "metadata": {
        "id": "Usg_o244sQ-3",
        "colab_type": "code",
        "colab": {
          "base_uri": "https://localhost:8080/",
          "height": 34
        },
        "outputId": "27c5a7bd-62b1-477b-ef93-86b41567b552"
      },
      "source": [
        "rest_img, rest_label = getEvalData(x_test,y_test,2)\n",
        "mal_target = np.zeros(rest_label.shape[0])\n",
        "mal_target[:] = 0\n",
        "mal_target = keras.utils.to_categorical(mal_target, 10)\n",
        "uFR, tFR = eval_targeted_uap(model,rest_img+TUAP_20,to_categorical(rest_label,10),mal_target)\n",
        "print(f'results for TUAP 2->0 leak effect: untargeted FR = {uFR}')"
      ],
      "execution_count": 32,
      "outputs": [
        {
          "output_type": "stream",
          "text": [
            "results for TUAP 2->0 leak effect: untargeted FR = 0.5488888919353485\n"
          ],
          "name": "stdout"
        }
      ]
    },
    {
      "cell_type": "code",
      "metadata": {
        "id": "1nhGUlxDsQ72",
        "colab_type": "code",
        "colab": {}
      },
      "source": [
        "def gridCombine(uap1,uap2):\n",
        "  # create random mask\n",
        "  a = np.zeros((3072))\n",
        "  b = random.sample(range(3072), 1536)\n",
        "  a[b] = 1\n",
        "  mask1 = np.reshape(a,(32,32,3))\n",
        "  mask2 = np.reshape((1-a),(32,32,3))\n",
        "  #combining with the masked uaps\n",
        "  combind_uap = mask1*uap1+mask2*uap2\n",
        "  return combind_uap\n",
        "\n",
        "def regionCombine(uap1,uap2):\n",
        "  #create the region mask: left maks1 right mask2\n",
        "  mask1 = np.zeros((32,32,3))\n",
        "  mask2 = np.zeros((32,32,3))\n",
        "  for i in range(32):\n",
        "    for j in range(32):\n",
        "      if j>=16:\n",
        "        mask2[i,j,:] = 1\n",
        "      else: mask1[i,j,:] = 1\n",
        "  #combining with the masked uaps\n",
        "  combind_uap = mask1*uap1+mask2*uap2\n",
        "  return combind_uap\n"
      ],
      "execution_count": 64,
      "outputs": []
    },
    {
      "cell_type": "markdown",
      "metadata": {
        "id": "nZcHPFVzDCGJ",
        "colab_type": "text"
      },
      "source": [
        "create the grid combined uap and evaluate it"
      ]
    },
    {
      "cell_type": "code",
      "metadata": {
        "id": "sYqfHBCsAflc",
        "colab_type": "code",
        "colab": {}
      },
      "source": [
        "# combine by grid method\n",
        "TUAP_gridComb_42 = gridCombine(TUAP_20, TUAP_47)"
      ],
      "execution_count": 52,
      "outputs": []
    },
    {
      "cell_type": "code",
      "metadata": {
        "id": "dlemIOuh95zo",
        "colab_type": "code",
        "colab": {
          "base_uri": "https://localhost:8080/",
          "height": 34
        },
        "outputId": "1cc6fcac-45cc-4584-b2d9-e16e9b760ec6"
      },
      "source": [
        "# eval the resulted combine uap\n",
        "\n",
        "img_validation = np.concatenate((img_val[2],img_val[4]))\n",
        "label_validation = np.concatenate((y_val[2],y_val[4]))\n",
        "mal_target = np.zeros(label_validation.shape[0])\n",
        "mal_target[:4900] = 0\n",
        "mal_target[4900:] = 7\n",
        "mal_target = keras.utils.to_categorical(mal_target, 10)\n",
        "uFR, tFR = eval_targeted_uap(model,img_validation+TUAP_gridComb_42,label_validation,mal_target)\n",
        "print(f'results for multi class targeted uap 4+2 specific class: untargeted FR = {uFR}, targeted FR = {tFR}')"
      ],
      "execution_count": 53,
      "outputs": [
        {
          "output_type": "stream",
          "text": [
            "results for multi class targeted uap 4+2 specific class: untargeted FR = 0.40551018714904785, targeted FR = 0.06438775360584259\n"
          ],
          "name": "stdout"
        }
      ]
    },
    {
      "cell_type": "code",
      "metadata": {
        "id": "h1eLVXeU_IHg",
        "colab_type": "code",
        "colab": {
          "base_uri": "https://localhost:8080/",
          "height": 34
        },
        "outputId": "51bcd045-b66c-4974-d6bb-533b41daa776"
      },
      "source": [
        "rest_img, rest_label = getEvalData(x_test,y_test,2)\n",
        "rest_img, rest_label = getEvalData(rest_img,rest_label,4)\n",
        "mal_target = np.zeros(rest_label.shape[0])\n",
        "mal_target[:] = 0\n",
        "mal_target = keras.utils.to_categorical(mal_target, 10)\n",
        "uFR, tFR = eval_targeted_uap(model,rest_img+TUAP_gridComb_42,to_categorical(rest_label,10),mal_target)\n",
        "print(f'results for TUAP 2->0 leak effect: untargeted FR = {uFR}')"
      ],
      "execution_count": 54,
      "outputs": [
        {
          "output_type": "stream",
          "text": [
            "results for TUAP 2->0 leak effect: untargeted FR = 0.29587501287460327\n"
          ],
          "name": "stdout"
        }
      ]
    },
    {
      "cell_type": "markdown",
      "metadata": {
        "id": "F0xDHrMqDNwZ",
        "colab_type": "text"
      },
      "source": [
        "create the region combine uap and evaluate it"
      ]
    },
    {
      "cell_type": "code",
      "metadata": {
        "id": "PQ6mheW4_IEx",
        "colab_type": "code",
        "colab": {}
      },
      "source": [
        "# combine by grid method\n",
        "TUAP_regionComb_42 = regionCombine(TUAP_20, TUAP_47)"
      ],
      "execution_count": 65,
      "outputs": []
    },
    {
      "cell_type": "code",
      "metadata": {
        "id": "wtzq7Uid_IBe",
        "colab_type": "code",
        "colab": {
          "base_uri": "https://localhost:8080/",
          "height": 34
        },
        "outputId": "30f00857-331f-4b0d-e18e-5dc67befab1d"
      },
      "source": [
        "# eval the resulted combine uap\n",
        "\n",
        "img_validation = np.concatenate((img_val[2],img_val[4]))\n",
        "label_validation = np.concatenate((y_val[2],y_val[4]))\n",
        "mal_target = np.zeros(label_validation.shape[0])\n",
        "mal_target[:4900] = 0\n",
        "mal_target[4900:] = 7\n",
        "mal_target = keras.utils.to_categorical(mal_target, 10)\n",
        "uFR, tFR = eval_targeted_uap(model,img_validation+TUAP_regionComb_42,label_validation,mal_target)\n",
        "print(f'results for multi class targeted uap 4+2 specific class: untargeted FR = {uFR}, targeted FR = {tFR}')"
      ],
      "execution_count": 67,
      "outputs": [
        {
          "output_type": "stream",
          "text": [
            "results for multi class targeted uap 4+2 specific class: untargeted FR = 0.8485714346170425, targeted FR = 0.427142858505249\n"
          ],
          "name": "stdout"
        }
      ]
    },
    {
      "cell_type": "code",
      "metadata": {
        "id": "SgFSdDa1_H7l",
        "colab_type": "code",
        "colab": {
          "base_uri": "https://localhost:8080/",
          "height": 34
        },
        "outputId": "90a7d23f-562b-4e16-f89b-a968a7da2d8f"
      },
      "source": [
        "rest_img, rest_label = getEvalData(x_test,y_test,2)\n",
        "rest_img, rest_label = getEvalData(rest_img,rest_label,4)\n",
        "mal_target = np.zeros(rest_label.shape[0])\n",
        "mal_target[:] = 0\n",
        "mal_target = keras.utils.to_categorical(mal_target, 10)\n",
        "uFR, tFR = eval_targeted_uap(model,rest_img+TUAP_regionComb_42,to_categorical(rest_label,10),mal_target)\n",
        "print(f'results for TUAP 2->0 leak effect: untargeted FR = {uFR}')"
      ],
      "execution_count": 68,
      "outputs": [
        {
          "output_type": "stream",
          "text": [
            "results for TUAP 2->0 leak effect: untargeted FR = 0.43037497997283936\n"
          ],
          "name": "stdout"
        }
      ]
    },
    {
      "cell_type": "markdown",
      "metadata": {
        "id": "y3ssG85PF65I",
        "colab_type": "text"
      },
      "source": [
        "create a combined uap by entire new training with both constrains"
      ]
    },
    {
      "cell_type": "code",
      "metadata": {
        "id": "EMqUbynHDke5",
        "colab_type": "code",
        "colab": {
          "base_uri": "https://localhost:8080/",
          "height": 272
        },
        "outputId": "a92ef83c-4cc4-40ac-f4f7-bbf23ee55711"
      },
      "source": [
        "# now we create a specific source-target attack that sends bird->airplane & deer->horse\n",
        "train_set_x = np.concatenate((img_val[2][:200],img_val[4][:200]))\n",
        "train_labels = np.concatenate((y_val[2][:200],y_val[2][:200]))\n",
        "train_labels = np.argmax(train_labels,axis=-1)\n",
        "#turn class 2 to 0 and 4 to 7\n",
        "train_labels = np.where(train_labels==2,0,train_labels)\n",
        "train_labels = np.where(train_labels==4,7,train_labels)\n",
        "\n",
        "train_set_x,train_labels = shuffle(train_set_x,train_labels)\n",
        "batch_size = 32\n",
        "TUAP_gradComb_42 = targetedUAP2(model, train_set_x, to_categorical(train_labels, 10),batch_size, iterations=10, epsilon=1.6, step=0.006)"
      ],
      "execution_count": 78,
      "outputs": [
        {
          "output_type": "stream",
          "text": [
            "Epoch: 1,\n",
            "Moved into target class: 0.8349999785423279,\n",
            "UAP Size: 1.6\n",
            "Epoch: 2,\n",
            "Moved into target class: 0.8525000214576721,\n",
            "UAP Size: 1.6000000000000003\n",
            "Epoch: 3,\n",
            "Moved into target class: 0.8324999809265137,\n",
            "UAP Size: 1.6\n",
            "Epoch: 4,\n",
            "Moved into target class: 0.8550000190734863,\n",
            "UAP Size: 1.6\n",
            "Epoch: 5,\n",
            "Moved into target class: 0.8475000262260437,\n",
            "UAP Size: 1.6\n"
          ],
          "name": "stdout"
        }
      ]
    },
    {
      "cell_type": "code",
      "metadata": {
        "id": "66f9n2K-DkcB",
        "colab_type": "code",
        "colab": {
          "base_uri": "https://localhost:8080/",
          "height": 34
        },
        "outputId": "7d332951-e137-4188-bcd5-5888ed2e2eb5"
      },
      "source": [
        "# eval the resulted combine uap\n",
        "\n",
        "img_validation = np.concatenate((img_val[2],img_val[4]))\n",
        "label_validation = np.concatenate((y_val[2],y_val[4]))\n",
        "mal_target = np.zeros(label_validation.shape[0])\n",
        "mal_target[:4900] = 0\n",
        "mal_target[4900:] = 7\n",
        "mal_target = keras.utils.to_categorical(mal_target, 10)\n",
        "uFR, tFR = eval_targeted_uap(model,img_validation+TUAP_gradComb_42,label_validation,mal_target)\n",
        "print(f'results for multi class targeted uap 4+2 specific class: untargeted FR = {uFR}, targeted FR = {tFR}')"
      ],
      "execution_count": 79,
      "outputs": [
        {
          "output_type": "stream",
          "text": [
            "results for multi class targeted uap 4+2 specific class: untargeted FR = 0.887346938252449, targeted FR = 0.44091835618019104\n"
          ],
          "name": "stdout"
        }
      ]
    },
    {
      "cell_type": "code",
      "metadata": {
        "id": "UdA2ZPqTDkZP",
        "colab_type": "code",
        "colab": {
          "base_uri": "https://localhost:8080/",
          "height": 34
        },
        "outputId": "bb06ea64-9fbe-42e0-f0d1-de5ace8dae12"
      },
      "source": [
        "rest_img, rest_label = getEvalData(x_test,y_test,2)\n",
        "rest_img, rest_label = getEvalData(rest_img,rest_label,4)\n",
        "mal_target = np.zeros(rest_label.shape[0])\n",
        "mal_target[:] = 0\n",
        "mal_target = keras.utils.to_categorical(mal_target, 10)\n",
        "uFR, tFR = eval_targeted_uap(model,rest_img+TUAP_gradComb_42,to_categorical(rest_label,10),mal_target)\n",
        "print(f'results for TUAP 2->0 leak effect: untargeted FR = {uFR}')"
      ],
      "execution_count": 80,
      "outputs": [
        {
          "output_type": "stream",
          "text": [
            "results for TUAP 2->0 leak effect: untargeted FR = 0.5633749961853027\n"
          ],
          "name": "stdout"
        }
      ]
    },
    {
      "cell_type": "markdown",
      "metadata": {
        "id": "TCV8djPEIhPP",
        "colab_type": "text"
      },
      "source": [
        "now we will try to get more insights by visualize the confusion matrix of our combined uaps"
      ]
    },
    {
      "cell_type": "code",
      "metadata": {
        "id": "ZR6oh9cLDkWR",
        "colab_type": "code",
        "colab": {
          "base_uri": "https://localhost:8080/",
          "height": 295
        },
        "outputId": "54035b2f-e086-40da-b8e1-fc4e9b89fff2"
      },
      "source": [
        "# CM for the grid combine:\n",
        "y_true = y_test\n",
        "y_pred = np.argmax(model.predict(x_test+TUAP_gridComb_42), axis=-1)\n",
        "CM = np.array(confusion_matrix(y_true, y_pred)/100,dtype=np.float32)\n",
        "sn.heatmap(CM,fmt='.1f', annot=True)\n",
        "\n",
        "plt.title('CM for gridComb uap')\n",
        "plt.xlabel('predicted')\n",
        "plt.ylabel('source')\n",
        "\n",
        "plt.show()"
      ],
      "execution_count": 82,
      "outputs": [
        {
          "output_type": "display_data",
          "data": {
            "image/png": "[encoded data removed]",
            "text/plain": [
              "<Figure size 432x288 with 2 Axes>"
            ]
          },
          "metadata": {
            "tags": [],
            "needs_background": "light"
          }
        }
      ]
    },
    {
      "cell_type": "code",
      "metadata": {
        "id": "aSUFNI6_DkTf",
        "colab_type": "code",
        "colab": {
          "base_uri": "https://localhost:8080/",
          "height": 295
        },
        "outputId": "60ebdbad-f771-483e-cb5c-f20d524c3e11"
      },
      "source": [
        "# CM for the region combine:\n",
        "y_true = y_test\n",
        "y_pred = np.argmax(model.predict(x_test+TUAP_regionComb_42), axis=-1)\n",
        "CM = np.array(confusion_matrix(y_true, y_pred)/100,dtype=np.float32)\n",
        "sn.heatmap(CM,fmt='.1f', annot=True)\n",
        "plt.title('CM for regionComb uap')\n",
        "plt.xlabel('predicted')\n",
        "plt.ylabel('source')\n",
        "plt.show()"
      ],
      "execution_count": 83,
      "outputs": [
        {
          "output_type": "display_data",
          "data": {
            "image/png": "[encoded data removed]",
            "text/plain": [
              "<Figure size 432x288 with 2 Axes>"
            ]
          },
          "metadata": {
            "tags": [],
            "needs_background": "light"
          }
        }
      ]
    },
    {
      "cell_type": "code",
      "metadata": {
        "id": "WbwOa5enDkQj",
        "colab_type": "code",
        "colab": {
          "base_uri": "https://localhost:8080/",
          "height": 295
        },
        "outputId": "64e928dc-5355-4c54-c96e-bd9ffb047599"
      },
      "source": [
        "# CM for the gradient combine:\n",
        "y_true = y_test\n",
        "y_pred = np.argmax(model.predict(x_test+TUAP_gradComb_42), axis=-1)\n",
        "CM = np.array(confusion_matrix(y_true, y_pred)/100,dtype=np.float32)\n",
        "sn.heatmap(CM,fmt='.1f', annot=True)\n",
        "plt.title('CM for gradComb uap')\n",
        "plt.xlabel('predicted')\n",
        "plt.ylabel('source')\n",
        "plt.show()"
      ],
      "execution_count": 84,
      "outputs": [
        {
          "output_type": "display_data",
          "data": {
            "image/png": "[encoded data removed]",
            "text/plain": [
              "<Figure size 432x288 with 2 Axes>"
            ]
          },
          "metadata": {
            "tags": [],
            "needs_background": "light"
          }
        }
      ]
    }
  ]
}